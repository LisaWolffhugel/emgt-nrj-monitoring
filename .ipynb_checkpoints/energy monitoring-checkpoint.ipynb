{
 "cells": [
  {
   "cell_type": "markdown",
   "id": "creative-selling",
   "metadata": {},
   "source": [
    "# Energy Monitoring using atoti"
   ]
  },
  {
   "cell_type": "code",
   "execution_count": 1,
   "id": "virtual-moldova",
   "metadata": {},
   "outputs": [],
   "source": [
    "import atoti as tt\n",
    "\n",
    "session = tt.create_session(\"Emgt_nrj_monitoring\")"
   ]
  },
  {
   "cell_type": "code",
   "execution_count": 2,
   "id": "downtown-season",
   "metadata": {},
   "outputs": [],
   "source": [
    "# creation du base store depuis le fichier csv type_compteurs\n",
    "# (ce fichier devrait contenir la liste complète des compteurs pour permettre une vision de tous les compteurs même ceux non reliés aux appartements)\n",
    "store_type_compteurs = session.read_csv(\"./data/V2/type_compteur.csv\",\n",
    "                                       store_name=\"type_compteur\",\n",
    "                                       keys=[\"ID_compteur\"], types={\"Niveau\": tt.type.STRING,\"ID_unit\": tt.type.STRING})"
   ]
  },
  {
   "cell_type": "code",
   "execution_count": 3,
   "id": "vital-marathon",
   "metadata": {},
   "outputs": [
    {
     "data": {
      "text/html": [
       "<div>\n",
       "<style scoped>\n",
       "    .dataframe tbody tr th:only-of-type {\n",
       "        vertical-align: middle;\n",
       "    }\n",
       "\n",
       "    .dataframe tbody tr th {\n",
       "        vertical-align: top;\n",
       "    }\n",
       "\n",
       "    .dataframe thead th {\n",
       "        text-align: right;\n",
       "    }\n",
       "</style>\n",
       "<table border=\"1\" class=\"dataframe\">\n",
       "  <thead>\n",
       "    <tr style=\"text-align: right;\">\n",
       "      <th></th>\n",
       "      <th>Type_compteur</th>\n",
       "      <th>Unite</th>\n",
       "      <th>Type_intervalle</th>\n",
       "      <th>Type_aggregation</th>\n",
       "      <th>Niveau</th>\n",
       "      <th>ID_unit</th>\n",
       "    </tr>\n",
       "    <tr>\n",
       "      <th>ID_compteur</th>\n",
       "      <th></th>\n",
       "      <th></th>\n",
       "      <th></th>\n",
       "      <th></th>\n",
       "      <th></th>\n",
       "      <th></th>\n",
       "    </tr>\n",
       "  </thead>\n",
       "  <tbody>\n",
       "    <tr>\n",
       "      <th>Facture_eau_CHF_1_Complexe Total</th>\n",
       "      <td>Facture_eau</td>\n",
       "      <td>CHF</td>\n",
       "      <td>Semaine</td>\n",
       "      <td>SUM</td>\n",
       "      <td>1</td>\n",
       "      <td>Complexe Total</td>\n",
       "    </tr>\n",
       "    <tr>\n",
       "      <th>Facture_chaud_CHF_1_Complexe Total</th>\n",
       "      <td>Facture_chaud</td>\n",
       "      <td>CHF</td>\n",
       "      <td>Semaine</td>\n",
       "      <td>SUM</td>\n",
       "      <td>1</td>\n",
       "      <td>Complexe Total</td>\n",
       "    </tr>\n",
       "    <tr>\n",
       "      <th>chaud_kWh_1_Complexe Total</th>\n",
       "      <td>chaud</td>\n",
       "      <td>kWh</td>\n",
       "      <td>Semaine</td>\n",
       "      <td>SUM</td>\n",
       "      <td>1</td>\n",
       "      <td>Complexe Total</td>\n",
       "    </tr>\n",
       "    <tr>\n",
       "      <th>froid_m3_1_Complexe Total</th>\n",
       "      <td>froid</td>\n",
       "      <td>m3</td>\n",
       "      <td>Semaine</td>\n",
       "      <td>SUM</td>\n",
       "      <td>1</td>\n",
       "      <td>Complexe Total</td>\n",
       "    </tr>\n",
       "    <tr>\n",
       "      <th>ECS_kWh_2_Groupe UAA</th>\n",
       "      <td>ECS</td>\n",
       "      <td>kWh</td>\n",
       "      <td>Jour</td>\n",
       "      <td>DIFF</td>\n",
       "      <td>2</td>\n",
       "      <td>Groupe UAA</td>\n",
       "    </tr>\n",
       "  </tbody>\n",
       "</table>\n",
       "</div>"
      ],
      "text/plain": [
       "                                    Type_compteur Unite Type_intervalle  \\\n",
       "ID_compteur                                                               \n",
       "Facture_eau_CHF_1_Complexe Total      Facture_eau   CHF         Semaine   \n",
       "Facture_chaud_CHF_1_Complexe Total  Facture_chaud   CHF         Semaine   \n",
       "chaud_kWh_1_Complexe Total                  chaud   kWh         Semaine   \n",
       "froid_m3_1_Complexe Total                   froid    m3         Semaine   \n",
       "ECS_kWh_2_Groupe UAA                          ECS   kWh            Jour   \n",
       "\n",
       "                                   Type_aggregation  Niveau         ID_unit  \n",
       "ID_compteur                                                                  \n",
       "Facture_eau_CHF_1_Complexe Total                SUM       1  Complexe Total  \n",
       "Facture_chaud_CHF_1_Complexe Total              SUM       1  Complexe Total  \n",
       "chaud_kWh_1_Complexe Total                      SUM       1  Complexe Total  \n",
       "froid_m3_1_Complexe Total                       SUM       1  Complexe Total  \n",
       "ECS_kWh_2_Groupe UAA                           DIFF       2      Groupe UAA  "
      ]
     },
     "execution_count": 3,
     "metadata": {},
     "output_type": "execute_result"
    }
   ],
   "source": [
    "store_type_compteurs.head()"
   ]
  },
  {
   "cell_type": "code",
   "execution_count": 4,
   "id": "assigned-authentication",
   "metadata": {},
   "outputs": [],
   "source": [
    "# chargement des autres stores depuis la bdd sql \n",
    "# le type de valeur_compteur doit être le même entre atoti et la base sql si ce n'est pas le cas il faut le convertir dans la requete SQL pour avoir un double\n",
    "# ici le format de ts est datetime dans la base sql\n",
    "store_compteurs = session.read_sql(\n",
    "    \"jdbc:sqlserver://LISA-PC;databaseName=MonitoringDB\",\n",
    "    \"SELECT [tagName] AS ID_compteur, YEAR(ts) AS Annee, DATENAME(month,ts) AS Mois, DAY(ts) AS Jour, CONVERT(DATE, ts) as Date, [tagValue] AS valeur_compteur FROM [MonitoringDB].[dbo].[compteurs];\",\n",
    "    username=\"lisaW\",\n",
    "    password=\"qDa2021\",\n",
    "    store_name=\"compteurs\",\n",
    "    keys=[\"ID_compteur\", \"Date\"],\n",
    "    types={\"ID_compteur\":tt.type.STRING, \"Date\": tt.type.LOCAL_DATE, \"valeur_compteur\": tt.type.DOUBLE},\n",
    ")"
   ]
  },
  {
   "cell_type": "code",
   "execution_count": 5,
   "id": "plain-frame",
   "metadata": {},
   "outputs": [
    {
     "data": {
      "text/html": [
       "<div>\n",
       "<style scoped>\n",
       "    .dataframe tbody tr th:only-of-type {\n",
       "        vertical-align: middle;\n",
       "    }\n",
       "\n",
       "    .dataframe tbody tr th {\n",
       "        vertical-align: top;\n",
       "    }\n",
       "\n",
       "    .dataframe thead th {\n",
       "        text-align: right;\n",
       "    }\n",
       "</style>\n",
       "<table border=\"1\" class=\"dataframe\">\n",
       "  <thead>\n",
       "    <tr style=\"text-align: right;\">\n",
       "      <th></th>\n",
       "      <th></th>\n",
       "      <th>Annee</th>\n",
       "      <th>Mois</th>\n",
       "      <th>Jour</th>\n",
       "      <th>valeur_compteur</th>\n",
       "    </tr>\n",
       "    <tr>\n",
       "      <th>ID_compteur</th>\n",
       "      <th>Date</th>\n",
       "      <th></th>\n",
       "      <th></th>\n",
       "      <th></th>\n",
       "      <th></th>\n",
       "    </tr>\n",
       "  </thead>\n",
       "  <tbody>\n",
       "    <tr>\n",
       "      <th rowspan=\"5\" valign=\"top\">ECS_kWh_3_1</th>\n",
       "      <th>2021-03-17</th>\n",
       "      <td>2021</td>\n",
       "      <td>March</td>\n",
       "      <td>17</td>\n",
       "      <td>15013.509766</td>\n",
       "    </tr>\n",
       "    <tr>\n",
       "      <th>2021-03-19</th>\n",
       "      <td>2021</td>\n",
       "      <td>March</td>\n",
       "      <td>19</td>\n",
       "      <td>15047.629883</td>\n",
       "    </tr>\n",
       "    <tr>\n",
       "      <th>2021-03-21</th>\n",
       "      <td>2021</td>\n",
       "      <td>March</td>\n",
       "      <td>21</td>\n",
       "      <td>15082.379883</td>\n",
       "    </tr>\n",
       "    <tr>\n",
       "      <th>2021-03-23</th>\n",
       "      <td>2021</td>\n",
       "      <td>March</td>\n",
       "      <td>23</td>\n",
       "      <td>15133.049805</td>\n",
       "    </tr>\n",
       "    <tr>\n",
       "      <th>2021-03-25</th>\n",
       "      <td>2021</td>\n",
       "      <td>March</td>\n",
       "      <td>25</td>\n",
       "      <td>15165.599609</td>\n",
       "    </tr>\n",
       "  </tbody>\n",
       "</table>\n",
       "</div>"
      ],
      "text/plain": [
       "                        Annee   Mois  Jour  valeur_compteur\n",
       "ID_compteur Date                                           \n",
       "ECS_kWh_3_1 2021-03-17   2021  March    17     15013.509766\n",
       "            2021-03-19   2021  March    19     15047.629883\n",
       "            2021-03-21   2021  March    21     15082.379883\n",
       "            2021-03-23   2021  March    23     15133.049805\n",
       "            2021-03-25   2021  March    25     15165.599609"
      ]
     },
     "execution_count": 5,
     "metadata": {},
     "output_type": "execute_result"
    }
   ],
   "source": [
    "store_compteurs.head()"
   ]
  },
  {
   "cell_type": "code",
   "execution_count": 6,
   "id": "annoying-stage",
   "metadata": {},
   "outputs": [],
   "source": [
    "# chargement des autres csv\n",
    "store_entite_physique = session.read_csv(\"./data/V2/entite_physique.csv\",\n",
    "                                       store_name=\"entite_physique\",\n",
    "                                       keys=[\"ID_unit_physique\"], types={\"ID_unit_physique\": tt.type.STRING,\"nom_unit\": tt.type.STRING})"
   ]
  },
  {
   "cell_type": "code",
   "execution_count": 7,
   "id": "noble-merchant",
   "metadata": {},
   "outputs": [],
   "source": [
    "store_appt = session.read_csv(\"./data/V2/Appartements.csv\",\n",
    "                                       store_name=\"appartements\",\n",
    "                                       keys=[\"ID_appt\"], \n",
    "                                      types={\"ID_appt\": tt.type.STRING,\n",
    "                                             \"Nb_pieces\": tt.type.STRING,\n",
    "                                             \"Surface\": tt.type.DOUBLE})"
   ]
  },
  {
   "cell_type": "code",
   "execution_count": 8,
   "id": "ancient-promotion",
   "metadata": {},
   "outputs": [],
   "source": [
    "# jointure des store pour créer le schema proprement et créer le cube\n",
    "# ici nous ne créeons pas de jointure entre appartement et entite_physique pour l'instant.\n",
    "store_type_compteurs.join(store_appt, mapping={\"ID_unit\": \"ID_appt\"})\n",
    "store_type_compteurs.join(store_entite_physique, mapping={\"ID_unit\": \"ID_unit_physique\"})\n",
    "store_type_compteurs.join(store_compteurs, mapping={\"ID_compteur\":\"ID_compteur\"})"
   ]
  },
  {
   "cell_type": "code",
   "execution_count": 9,
   "id": "monetary-literacy",
   "metadata": {},
   "outputs": [
    {
     "data": {
      "image/svg+xml": [
       "<svg xmlns=\"http://www.w3.org/2000/svg\" xmlns:xlink=\"http://www.w3.org/1999/xlink\" width=\"624px\" height=\"674px\" viewBox=\"0.00 0.00 624.00 674.00\">\n",
       "<g id=\"graph0\" class=\"graph\" transform=\"scale(1.0 1.0) rotate(0) translate(4 670)\">\n",
       "<title>Datastore schema</title>\n",
       "<polygon fill=\"white\" stroke=\"transparent\" points=\"-4,4 -4,-670 620,-670 620,4 -4,4\"/>\n",
       "<!-- compteurs -->\n",
       "<g id=\"node1\" class=\"node\">\n",
       "<title>compteurs</title>\n",
       "<text text-anchor=\"start\" x=\"476\" y=\"-646.6\" font-family=\"-apple-system, BlinkMacSystemFont, 'Segoe UI', Helvetica, Arial, sans-serif, 'Apple Color Emoji', 'Segoe UI Emoji', 'Segoe UI Symbol'\" font-weight=\"bold\" font-size=\"13.00\">compteurs</text>\n",
       "<polygon fill=\"#f5f5f5\" stroke=\"transparent\" points=\"408.5,-613 408.5,-637 439.5,-637 439.5,-613 408.5,-613\"/>\n",
       "<text text-anchor=\"start\" x=\"413.5\" y=\"-622.6\" font-family=\"-apple-system, BlinkMacSystemFont, 'Segoe UI', Helvetica, Arial, sans-serif, 'Apple Color Emoji', 'Segoe UI Emoji', 'Segoe UI Symbol'\" font-weight=\"bold\" font-size=\"13.00\">key</text>\n",
       "<polygon fill=\"#f5f5f5\" stroke=\"transparent\" points=\"439.5,-613 439.5,-637 540.5,-637 540.5,-613 439.5,-613\"/>\n",
       "<text text-anchor=\"start\" x=\"444.5\" y=\"-621.6\" font-family=\"-apple-system, BlinkMacSystemFont, 'Segoe UI', Helvetica, Arial, sans-serif, 'Apple Color Emoji', 'Segoe UI Emoji', 'Segoe UI Symbol'\" font-size=\"13.00\">ID_compteur</text>\n",
       "<polygon fill=\"#f5f5f5\" stroke=\"transparent\" points=\"540.5,-613 540.5,-637 607.5,-637 607.5,-613 540.5,-613\"/>\n",
       "<text text-anchor=\"start\" x=\"569.5\" y=\"-622.6\" font-family=\"-apple-system, BlinkMacSystemFont, 'Segoe UI', Helvetica, Arial, sans-serif, 'Apple Color Emoji', 'Segoe UI Emoji', 'Segoe UI Symbol'\" font-style=\"italic\" font-size=\"13.00\">String</text>\n",
       "<polygon fill=\"#ffffff\" stroke=\"transparent\" points=\"408.5,-589 408.5,-613 439.5,-613 439.5,-589 408.5,-589\"/>\n",
       "<polygon fill=\"#ffffff\" stroke=\"transparent\" points=\"439.5,-589 439.5,-613 540.5,-613 540.5,-589 439.5,-589\"/>\n",
       "<text text-anchor=\"start\" x=\"444.5\" y=\"-597.6\" font-family=\"-apple-system, BlinkMacSystemFont, 'Segoe UI', Helvetica, Arial, sans-serif, 'Apple Color Emoji', 'Segoe UI Emoji', 'Segoe UI Symbol'\" font-size=\"13.00\">Annee</text>\n",
       "<polygon fill=\"#ffffff\" stroke=\"transparent\" points=\"540.5,-589 540.5,-613 607.5,-613 607.5,-589 540.5,-589\"/>\n",
       "<text text-anchor=\"start\" x=\"588.5\" y=\"-598.6\" font-family=\"-apple-system, BlinkMacSystemFont, 'Segoe UI', Helvetica, Arial, sans-serif, 'Apple Color Emoji', 'Segoe UI Emoji', 'Segoe UI Symbol'\" font-style=\"italic\" font-size=\"13.00\">int</text>\n",
       "<polygon fill=\"#f5f5f5\" stroke=\"transparent\" points=\"408.5,-565 408.5,-589 439.5,-589 439.5,-565 408.5,-565\"/>\n",
       "<polygon fill=\"#f5f5f5\" stroke=\"transparent\" points=\"439.5,-565 439.5,-589 540.5,-589 540.5,-565 439.5,-565\"/>\n",
       "<text text-anchor=\"start\" x=\"444.5\" y=\"-573.6\" font-family=\"-apple-system, BlinkMacSystemFont, 'Segoe UI', Helvetica, Arial, sans-serif, 'Apple Color Emoji', 'Segoe UI Emoji', 'Segoe UI Symbol'\" font-size=\"13.00\">Mois</text>\n",
       "<polygon fill=\"#f5f5f5\" stroke=\"transparent\" points=\"540.5,-565 540.5,-589 607.5,-589 607.5,-565 540.5,-565\"/>\n",
       "<text text-anchor=\"start\" x=\"569.5\" y=\"-574.6\" font-family=\"-apple-system, BlinkMacSystemFont, 'Segoe UI', Helvetica, Arial, sans-serif, 'Apple Color Emoji', 'Segoe UI Emoji', 'Segoe UI Symbol'\" font-style=\"italic\" font-size=\"13.00\">String</text>\n",
       "<polygon fill=\"#ffffff\" stroke=\"transparent\" points=\"408.5,-541 408.5,-565 439.5,-565 439.5,-541 408.5,-541\"/>\n",
       "<polygon fill=\"#ffffff\" stroke=\"transparent\" points=\"439.5,-541 439.5,-565 540.5,-565 540.5,-541 439.5,-541\"/>\n",
       "<text text-anchor=\"start\" x=\"444.5\" y=\"-549.6\" font-family=\"-apple-system, BlinkMacSystemFont, 'Segoe UI', Helvetica, Arial, sans-serif, 'Apple Color Emoji', 'Segoe UI Emoji', 'Segoe UI Symbol'\" font-size=\"13.00\">Jour</text>\n",
       "<polygon fill=\"#ffffff\" stroke=\"transparent\" points=\"540.5,-541 540.5,-565 607.5,-565 607.5,-541 540.5,-541\"/>\n",
       "<text text-anchor=\"start\" x=\"588.5\" y=\"-550.6\" font-family=\"-apple-system, BlinkMacSystemFont, 'Segoe UI', Helvetica, Arial, sans-serif, 'Apple Color Emoji', 'Segoe UI Emoji', 'Segoe UI Symbol'\" font-style=\"italic\" font-size=\"13.00\">int</text>\n",
       "<polygon fill=\"#f5f5f5\" stroke=\"transparent\" points=\"408.5,-517 408.5,-541 439.5,-541 439.5,-517 408.5,-517\"/>\n",
       "<text text-anchor=\"start\" x=\"413.5\" y=\"-526.6\" font-family=\"-apple-system, BlinkMacSystemFont, 'Segoe UI', Helvetica, Arial, sans-serif, 'Apple Color Emoji', 'Segoe UI Emoji', 'Segoe UI Symbol'\" font-weight=\"bold\" font-size=\"13.00\">key</text>\n",
       "<polygon fill=\"#f5f5f5\" stroke=\"transparent\" points=\"439.5,-517 439.5,-541 540.5,-541 540.5,-517 439.5,-517\"/>\n",
       "<text text-anchor=\"start\" x=\"444.5\" y=\"-525.6\" font-family=\"-apple-system, BlinkMacSystemFont, 'Segoe UI', Helvetica, Arial, sans-serif, 'Apple Color Emoji', 'Segoe UI Emoji', 'Segoe UI Symbol'\" font-size=\"13.00\">Date</text>\n",
       "<polygon fill=\"#f5f5f5\" stroke=\"transparent\" points=\"540.5,-517 540.5,-541 607.5,-541 607.5,-517 540.5,-517\"/>\n",
       "<text text-anchor=\"start\" x=\"545.5\" y=\"-526.6\" font-family=\"-apple-system, BlinkMacSystemFont, 'Segoe UI', Helvetica, Arial, sans-serif, 'Apple Color Emoji', 'Segoe UI Emoji', 'Segoe UI Symbol'\" font-style=\"italic\" font-size=\"13.00\">LocalDate</text>\n",
       "<polygon fill=\"#ffffff\" stroke=\"transparent\" points=\"408.5,-493 408.5,-517 439.5,-517 439.5,-493 408.5,-493\"/>\n",
       "<polygon fill=\"#ffffff\" stroke=\"transparent\" points=\"439.5,-493 439.5,-517 540.5,-517 540.5,-493 439.5,-493\"/>\n",
       "<text text-anchor=\"start\" x=\"444.5\" y=\"-501.6\" font-family=\"-apple-system, BlinkMacSystemFont, 'Segoe UI', Helvetica, Arial, sans-serif, 'Apple Color Emoji', 'Segoe UI Emoji', 'Segoe UI Symbol'\" font-size=\"13.00\">valeur_compteur</text>\n",
       "<polygon fill=\"#ffffff\" stroke=\"transparent\" points=\"540.5,-493 540.5,-517 607.5,-517 607.5,-493 540.5,-493\"/>\n",
       "<text text-anchor=\"start\" x=\"565.5\" y=\"-502.6\" font-family=\"-apple-system, BlinkMacSystemFont, 'Segoe UI', Helvetica, Arial, sans-serif, 'Apple Color Emoji', 'Segoe UI Emoji', 'Segoe UI Symbol'\" font-style=\"italic\" font-size=\"13.00\">double</text>\n",
       "<polygon fill=\"none\" stroke=\"black\" points=\"407,-492 407,-662 608,-662 608,-492 407,-492\"/>\n",
       "</g>\n",
       "<!-- type_compteur -->\n",
       "<g id=\"node2\" class=\"node\">\n",
       "<title>type_compteur</title>\n",
       "<text text-anchor=\"start\" x=\"56.5\" y=\"-378.6\" font-family=\"-apple-system, BlinkMacSystemFont, 'Segoe UI', Helvetica, Arial, sans-serif, 'Apple Color Emoji', 'Segoe UI Emoji', 'Segoe UI Symbol'\" font-weight=\"bold\" font-size=\"13.00\">type_compteur</text>\n",
       "<polygon fill=\"#f5f5f5\" stroke=\"transparent\" points=\"9.5,-345 9.5,-369 40.5,-369 40.5,-345 9.5,-345\"/>\n",
       "<text text-anchor=\"start\" x=\"14.5\" y=\"-354.6\" font-family=\"-apple-system, BlinkMacSystemFont, 'Segoe UI', Helvetica, Arial, sans-serif, 'Apple Color Emoji', 'Segoe UI Emoji', 'Segoe UI Symbol'\" font-weight=\"bold\" font-size=\"13.00\">key</text>\n",
       "<polygon fill=\"#f5f5f5\" stroke=\"transparent\" points=\"40.5,-345 40.5,-369 149.5,-369 149.5,-345 40.5,-345\"/>\n",
       "<text text-anchor=\"start\" x=\"45.5\" y=\"-353.6\" font-family=\"-apple-system, BlinkMacSystemFont, 'Segoe UI', Helvetica, Arial, sans-serif, 'Apple Color Emoji', 'Segoe UI Emoji', 'Segoe UI Symbol'\" font-size=\"13.00\">ID_compteur</text>\n",
       "<polygon fill=\"#f5f5f5\" stroke=\"transparent\" points=\"149.5,-345 149.5,-369 192.5,-369 192.5,-345 149.5,-345\"/>\n",
       "<text text-anchor=\"start\" x=\"154.5\" y=\"-354.6\" font-family=\"-apple-system, BlinkMacSystemFont, 'Segoe UI', Helvetica, Arial, sans-serif, 'Apple Color Emoji', 'Segoe UI Emoji', 'Segoe UI Symbol'\" font-style=\"italic\" font-size=\"13.00\">String</text>\n",
       "<polygon fill=\"#ffffff\" stroke=\"transparent\" points=\"9.5,-321 9.5,-345 40.5,-345 40.5,-321 9.5,-321\"/>\n",
       "<polygon fill=\"#ffffff\" stroke=\"transparent\" points=\"40.5,-321 40.5,-345 149.5,-345 149.5,-321 40.5,-321\"/>\n",
       "<text text-anchor=\"start\" x=\"45.5\" y=\"-329.6\" font-family=\"-apple-system, BlinkMacSystemFont, 'Segoe UI', Helvetica, Arial, sans-serif, 'Apple Color Emoji', 'Segoe UI Emoji', 'Segoe UI Symbol'\" font-size=\"13.00\">Type_compteur</text>\n",
       "<polygon fill=\"#ffffff\" stroke=\"transparent\" points=\"149.5,-321 149.5,-345 192.5,-345 192.5,-321 149.5,-321\"/>\n",
       "<text text-anchor=\"start\" x=\"154.5\" y=\"-330.6\" font-family=\"-apple-system, BlinkMacSystemFont, 'Segoe UI', Helvetica, Arial, sans-serif, 'Apple Color Emoji', 'Segoe UI Emoji', 'Segoe UI Symbol'\" font-style=\"italic\" font-size=\"13.00\">String</text>\n",
       "<polygon fill=\"#f5f5f5\" stroke=\"transparent\" points=\"9.5,-297 9.5,-321 40.5,-321 40.5,-297 9.5,-297\"/>\n",
       "<polygon fill=\"#f5f5f5\" stroke=\"transparent\" points=\"40.5,-297 40.5,-321 149.5,-321 149.5,-297 40.5,-297\"/>\n",
       "<text text-anchor=\"start\" x=\"45.5\" y=\"-305.6\" font-family=\"-apple-system, BlinkMacSystemFont, 'Segoe UI', Helvetica, Arial, sans-serif, 'Apple Color Emoji', 'Segoe UI Emoji', 'Segoe UI Symbol'\" font-size=\"13.00\">Unite</text>\n",
       "<polygon fill=\"#f5f5f5\" stroke=\"transparent\" points=\"149.5,-297 149.5,-321 192.5,-321 192.5,-297 149.5,-297\"/>\n",
       "<text text-anchor=\"start\" x=\"154.5\" y=\"-306.6\" font-family=\"-apple-system, BlinkMacSystemFont, 'Segoe UI', Helvetica, Arial, sans-serif, 'Apple Color Emoji', 'Segoe UI Emoji', 'Segoe UI Symbol'\" font-style=\"italic\" font-size=\"13.00\">String</text>\n",
       "<polygon fill=\"#ffffff\" stroke=\"transparent\" points=\"9.5,-273 9.5,-297 40.5,-297 40.5,-273 9.5,-273\"/>\n",
       "<polygon fill=\"#ffffff\" stroke=\"transparent\" points=\"40.5,-273 40.5,-297 149.5,-297 149.5,-273 40.5,-273\"/>\n",
       "<text text-anchor=\"start\" x=\"45.5\" y=\"-281.6\" font-family=\"-apple-system, BlinkMacSystemFont, 'Segoe UI', Helvetica, Arial, sans-serif, 'Apple Color Emoji', 'Segoe UI Emoji', 'Segoe UI Symbol'\" font-size=\"13.00\">Type_intervalle</text>\n",
       "<polygon fill=\"#ffffff\" stroke=\"transparent\" points=\"149.5,-273 149.5,-297 192.5,-297 192.5,-273 149.5,-273\"/>\n",
       "<text text-anchor=\"start\" x=\"154.5\" y=\"-282.6\" font-family=\"-apple-system, BlinkMacSystemFont, 'Segoe UI', Helvetica, Arial, sans-serif, 'Apple Color Emoji', 'Segoe UI Emoji', 'Segoe UI Symbol'\" font-style=\"italic\" font-size=\"13.00\">String</text>\n",
       "<polygon fill=\"#f5f5f5\" stroke=\"transparent\" points=\"9.5,-249 9.5,-273 40.5,-273 40.5,-249 9.5,-249\"/>\n",
       "<polygon fill=\"#f5f5f5\" stroke=\"transparent\" points=\"40.5,-249 40.5,-273 149.5,-273 149.5,-249 40.5,-249\"/>\n",
       "<text text-anchor=\"start\" x=\"45.5\" y=\"-257.6\" font-family=\"-apple-system, BlinkMacSystemFont, 'Segoe UI', Helvetica, Arial, sans-serif, 'Apple Color Emoji', 'Segoe UI Emoji', 'Segoe UI Symbol'\" font-size=\"13.00\">Type_aggregation</text>\n",
       "<polygon fill=\"#f5f5f5\" stroke=\"transparent\" points=\"149.5,-249 149.5,-273 192.5,-273 192.5,-249 149.5,-249\"/>\n",
       "<text text-anchor=\"start\" x=\"154.5\" y=\"-258.6\" font-family=\"-apple-system, BlinkMacSystemFont, 'Segoe UI', Helvetica, Arial, sans-serif, 'Apple Color Emoji', 'Segoe UI Emoji', 'Segoe UI Symbol'\" font-style=\"italic\" font-size=\"13.00\">String</text>\n",
       "<polygon fill=\"#ffffff\" stroke=\"transparent\" points=\"9.5,-225 9.5,-249 40.5,-249 40.5,-225 9.5,-225\"/>\n",
       "<polygon fill=\"#ffffff\" stroke=\"transparent\" points=\"40.5,-225 40.5,-249 149.5,-249 149.5,-225 40.5,-225\"/>\n",
       "<text text-anchor=\"start\" x=\"45.5\" y=\"-233.6\" font-family=\"-apple-system, BlinkMacSystemFont, 'Segoe UI', Helvetica, Arial, sans-serif, 'Apple Color Emoji', 'Segoe UI Emoji', 'Segoe UI Symbol'\" font-size=\"13.00\">Niveau</text>\n",
       "<polygon fill=\"#ffffff\" stroke=\"transparent\" points=\"149.5,-225 149.5,-249 192.5,-249 192.5,-225 149.5,-225\"/>\n",
       "<text text-anchor=\"start\" x=\"154.5\" y=\"-234.6\" font-family=\"-apple-system, BlinkMacSystemFont, 'Segoe UI', Helvetica, Arial, sans-serif, 'Apple Color Emoji', 'Segoe UI Emoji', 'Segoe UI Symbol'\" font-style=\"italic\" font-size=\"13.00\">String</text>\n",
       "<polygon fill=\"#f5f5f5\" stroke=\"transparent\" points=\"9.5,-201 9.5,-225 40.5,-225 40.5,-201 9.5,-201\"/>\n",
       "<polygon fill=\"#f5f5f5\" stroke=\"transparent\" points=\"40.5,-201 40.5,-225 149.5,-225 149.5,-201 40.5,-201\"/>\n",
       "<text text-anchor=\"start\" x=\"45.5\" y=\"-209.6\" font-family=\"-apple-system, BlinkMacSystemFont, 'Segoe UI', Helvetica, Arial, sans-serif, 'Apple Color Emoji', 'Segoe UI Emoji', 'Segoe UI Symbol'\" font-size=\"13.00\">ID_unit</text>\n",
       "<polygon fill=\"#f5f5f5\" stroke=\"transparent\" points=\"149.5,-201 149.5,-225 192.5,-225 192.5,-201 149.5,-201\"/>\n",
       "<text text-anchor=\"start\" x=\"154.5\" y=\"-210.6\" font-family=\"-apple-system, BlinkMacSystemFont, 'Segoe UI', Helvetica, Arial, sans-serif, 'Apple Color Emoji', 'Segoe UI Emoji', 'Segoe UI Symbol'\" font-style=\"italic\" font-size=\"13.00\">String</text>\n",
       "<polygon fill=\"none\" stroke=\"black\" points=\"8,-200 8,-394 193,-394 193,-200 8,-200\"/>\n",
       "</g>\n",
       "<!-- type_compteur&#45;&gt;compteurs -->\n",
       "<g id=\"edge1\" class=\"edge\">\n",
       "<title>type_compteur-&gt;compteurs</title>\n",
       "<path fill=\"none\" stroke=\"black\" stroke-dasharray=\"5,2\" d=\"M201.09,-365.85C258.36,-405.44 330.58,-455.37 390.41,-496.74\"/>\n",
       "<polygon fill=\"black\" stroke=\"black\" points=\"388.55,-499.71 398.77,-502.52 392.53,-493.95 388.55,-499.71\"/>\n",
       "<text text-anchor=\"middle\" x=\"300\" y=\"-489.6\" font-family=\"-apple-system, BlinkMacSystemFont, 'Segoe UI', Helvetica, Arial, sans-serif, 'Apple Color Emoji', 'Segoe UI Emoji', 'Segoe UI Symbol'\" font-size=\"13.00\">ID_compteur → ID_compteur</text>\n",
       "</g>\n",
       "<!-- appartements -->\n",
       "<g id=\"node3\" class=\"node\">\n",
       "<title>appartements</title>\n",
       "<text text-anchor=\"start\" x=\"467\" y=\"-450.6\" font-family=\"-apple-system, BlinkMacSystemFont, 'Segoe UI', Helvetica, Arial, sans-serif, 'Apple Color Emoji', 'Segoe UI Emoji', 'Segoe UI Symbol'\" font-weight=\"bold\" font-size=\"13.00\">appartements</text>\n",
       "<polygon fill=\"#f5f5f5\" stroke=\"transparent\" points=\"422.5,-417 422.5,-441 453.5,-441 453.5,-417 422.5,-417\"/>\n",
       "<text text-anchor=\"start\" x=\"427.5\" y=\"-426.6\" font-family=\"-apple-system, BlinkMacSystemFont, 'Segoe UI', Helvetica, Arial, sans-serif, 'Apple Color Emoji', 'Segoe UI Emoji', 'Segoe UI Symbol'\" font-weight=\"bold\" font-size=\"13.00\">key</text>\n",
       "<polygon fill=\"#f5f5f5\" stroke=\"transparent\" points=\"453.5,-417 453.5,-441 546.5,-441 546.5,-417 453.5,-417\"/>\n",
       "<text text-anchor=\"start\" x=\"458.5\" y=\"-425.6\" font-family=\"-apple-system, BlinkMacSystemFont, 'Segoe UI', Helvetica, Arial, sans-serif, 'Apple Color Emoji', 'Segoe UI Emoji', 'Segoe UI Symbol'\" font-size=\"13.00\">ID_appt</text>\n",
       "<polygon fill=\"#f5f5f5\" stroke=\"transparent\" points=\"546.5,-417 546.5,-441 593.5,-441 593.5,-417 546.5,-417\"/>\n",
       "<text text-anchor=\"start\" x=\"555.5\" y=\"-426.6\" font-family=\"-apple-system, BlinkMacSystemFont, 'Segoe UI', Helvetica, Arial, sans-serif, 'Apple Color Emoji', 'Segoe UI Emoji', 'Segoe UI Symbol'\" font-style=\"italic\" font-size=\"13.00\">String</text>\n",
       "<polygon fill=\"#ffffff\" stroke=\"transparent\" points=\"422.5,-393 422.5,-417 453.5,-417 453.5,-393 422.5,-393\"/>\n",
       "<polygon fill=\"#ffffff\" stroke=\"transparent\" points=\"453.5,-393 453.5,-417 546.5,-417 546.5,-393 453.5,-393\"/>\n",
       "<text text-anchor=\"start\" x=\"458.5\" y=\"-401.6\" font-family=\"-apple-system, BlinkMacSystemFont, 'Segoe UI', Helvetica, Arial, sans-serif, 'Apple Color Emoji', 'Segoe UI Emoji', 'Segoe UI Symbol'\" font-size=\"13.00\">Nom_Locataire</text>\n",
       "<polygon fill=\"#ffffff\" stroke=\"transparent\" points=\"546.5,-393 546.5,-417 593.5,-417 593.5,-393 546.5,-393\"/>\n",
       "<text text-anchor=\"start\" x=\"555.5\" y=\"-402.6\" font-family=\"-apple-system, BlinkMacSystemFont, 'Segoe UI', Helvetica, Arial, sans-serif, 'Apple Color Emoji', 'Segoe UI Emoji', 'Segoe UI Symbol'\" font-style=\"italic\" font-size=\"13.00\">String</text>\n",
       "<polygon fill=\"#f5f5f5\" stroke=\"transparent\" points=\"422.5,-369 422.5,-393 453.5,-393 453.5,-369 422.5,-369\"/>\n",
       "<polygon fill=\"#f5f5f5\" stroke=\"transparent\" points=\"453.5,-369 453.5,-393 546.5,-393 546.5,-369 453.5,-369\"/>\n",
       "<text text-anchor=\"start\" x=\"458.5\" y=\"-377.6\" font-family=\"-apple-system, BlinkMacSystemFont, 'Segoe UI', Helvetica, Arial, sans-serif, 'Apple Color Emoji', 'Segoe UI Emoji', 'Segoe UI Symbol'\" font-size=\"13.00\">Profil</text>\n",
       "<polygon fill=\"#f5f5f5\" stroke=\"transparent\" points=\"546.5,-369 546.5,-393 593.5,-393 593.5,-369 546.5,-369\"/>\n",
       "<text text-anchor=\"start\" x=\"555.5\" y=\"-378.6\" font-family=\"-apple-system, BlinkMacSystemFont, 'Segoe UI', Helvetica, Arial, sans-serif, 'Apple Color Emoji', 'Segoe UI Emoji', 'Segoe UI Symbol'\" font-style=\"italic\" font-size=\"13.00\">String</text>\n",
       "<polygon fill=\"#ffffff\" stroke=\"transparent\" points=\"422.5,-345 422.5,-369 453.5,-369 453.5,-345 422.5,-345\"/>\n",
       "<polygon fill=\"#ffffff\" stroke=\"transparent\" points=\"453.5,-345 453.5,-369 546.5,-369 546.5,-345 453.5,-345\"/>\n",
       "<text text-anchor=\"start\" x=\"458.5\" y=\"-353.6\" font-family=\"-apple-system, BlinkMacSystemFont, 'Segoe UI', Helvetica, Arial, sans-serif, 'Apple Color Emoji', 'Segoe UI Emoji', 'Segoe UI Symbol'\" font-size=\"13.00\">Lot</text>\n",
       "<polygon fill=\"#ffffff\" stroke=\"transparent\" points=\"546.5,-345 546.5,-369 593.5,-369 593.5,-345 546.5,-345\"/>\n",
       "<text text-anchor=\"start\" x=\"555.5\" y=\"-354.6\" font-family=\"-apple-system, BlinkMacSystemFont, 'Segoe UI', Helvetica, Arial, sans-serif, 'Apple Color Emoji', 'Segoe UI Emoji', 'Segoe UI Symbol'\" font-style=\"italic\" font-size=\"13.00\">String</text>\n",
       "<polygon fill=\"#f5f5f5\" stroke=\"transparent\" points=\"422.5,-321 422.5,-345 453.5,-345 453.5,-321 422.5,-321\"/>\n",
       "<polygon fill=\"#f5f5f5\" stroke=\"transparent\" points=\"453.5,-321 453.5,-345 546.5,-345 546.5,-321 453.5,-321\"/>\n",
       "<text text-anchor=\"start\" x=\"458.5\" y=\"-329.6\" font-family=\"-apple-system, BlinkMacSystemFont, 'Segoe UI', Helvetica, Arial, sans-serif, 'Apple Color Emoji', 'Segoe UI Emoji', 'Segoe UI Symbol'\" font-size=\"13.00\">Groupe</text>\n",
       "<polygon fill=\"#f5f5f5\" stroke=\"transparent\" points=\"546.5,-321 546.5,-345 593.5,-345 593.5,-321 546.5,-321\"/>\n",
       "<text text-anchor=\"start\" x=\"555.5\" y=\"-330.6\" font-family=\"-apple-system, BlinkMacSystemFont, 'Segoe UI', Helvetica, Arial, sans-serif, 'Apple Color Emoji', 'Segoe UI Emoji', 'Segoe UI Symbol'\" font-style=\"italic\" font-size=\"13.00\">String</text>\n",
       "<polygon fill=\"#ffffff\" stroke=\"transparent\" points=\"422.5,-297 422.5,-321 453.5,-321 453.5,-297 422.5,-297\"/>\n",
       "<polygon fill=\"#ffffff\" stroke=\"transparent\" points=\"453.5,-297 453.5,-321 546.5,-321 546.5,-297 453.5,-297\"/>\n",
       "<text text-anchor=\"start\" x=\"458.5\" y=\"-305.6\" font-family=\"-apple-system, BlinkMacSystemFont, 'Segoe UI', Helvetica, Arial, sans-serif, 'Apple Color Emoji', 'Segoe UI Emoji', 'Segoe UI Symbol'\" font-size=\"13.00\">PEC</text>\n",
       "<polygon fill=\"#ffffff\" stroke=\"transparent\" points=\"546.5,-297 546.5,-321 593.5,-321 593.5,-297 546.5,-297\"/>\n",
       "<text text-anchor=\"start\" x=\"555.5\" y=\"-306.6\" font-family=\"-apple-system, BlinkMacSystemFont, 'Segoe UI', Helvetica, Arial, sans-serif, 'Apple Color Emoji', 'Segoe UI Emoji', 'Segoe UI Symbol'\" font-style=\"italic\" font-size=\"13.00\">String</text>\n",
       "<polygon fill=\"#f5f5f5\" stroke=\"transparent\" points=\"422.5,-273 422.5,-297 453.5,-297 453.5,-273 422.5,-273\"/>\n",
       "<polygon fill=\"#f5f5f5\" stroke=\"transparent\" points=\"453.5,-273 453.5,-297 546.5,-297 546.5,-273 453.5,-273\"/>\n",
       "<text text-anchor=\"start\" x=\"458.5\" y=\"-281.6\" font-family=\"-apple-system, BlinkMacSystemFont, 'Segoe UI', Helvetica, Arial, sans-serif, 'Apple Color Emoji', 'Segoe UI Emoji', 'Segoe UI Symbol'\" font-size=\"13.00\">Batiment</text>\n",
       "<polygon fill=\"#f5f5f5\" stroke=\"transparent\" points=\"546.5,-273 546.5,-297 593.5,-297 593.5,-273 546.5,-273\"/>\n",
       "<text text-anchor=\"start\" x=\"555.5\" y=\"-282.6\" font-family=\"-apple-system, BlinkMacSystemFont, 'Segoe UI', Helvetica, Arial, sans-serif, 'Apple Color Emoji', 'Segoe UI Emoji', 'Segoe UI Symbol'\" font-style=\"italic\" font-size=\"13.00\">String</text>\n",
       "<polygon fill=\"#ffffff\" stroke=\"transparent\" points=\"422.5,-249 422.5,-273 453.5,-273 453.5,-249 422.5,-249\"/>\n",
       "<polygon fill=\"#ffffff\" stroke=\"transparent\" points=\"453.5,-249 453.5,-273 546.5,-273 546.5,-249 453.5,-249\"/>\n",
       "<text text-anchor=\"start\" x=\"458.5\" y=\"-257.6\" font-family=\"-apple-system, BlinkMacSystemFont, 'Segoe UI', Helvetica, Arial, sans-serif, 'Apple Color Emoji', 'Segoe UI Emoji', 'Segoe UI Symbol'\" font-size=\"13.00\">Etage</text>\n",
       "<polygon fill=\"#ffffff\" stroke=\"transparent\" points=\"546.5,-249 546.5,-273 593.5,-273 593.5,-249 546.5,-249\"/>\n",
       "<text text-anchor=\"start\" x=\"555.5\" y=\"-258.6\" font-family=\"-apple-system, BlinkMacSystemFont, 'Segoe UI', Helvetica, Arial, sans-serif, 'Apple Color Emoji', 'Segoe UI Emoji', 'Segoe UI Symbol'\" font-style=\"italic\" font-size=\"13.00\">String</text>\n",
       "<polygon fill=\"#f5f5f5\" stroke=\"transparent\" points=\"422.5,-225 422.5,-249 453.5,-249 453.5,-225 422.5,-225\"/>\n",
       "<polygon fill=\"#f5f5f5\" stroke=\"transparent\" points=\"453.5,-225 453.5,-249 546.5,-249 546.5,-225 453.5,-225\"/>\n",
       "<text text-anchor=\"start\" x=\"458.5\" y=\"-233.6\" font-family=\"-apple-system, BlinkMacSystemFont, 'Segoe UI', Helvetica, Arial, sans-serif, 'Apple Color Emoji', 'Segoe UI Emoji', 'Segoe UI Symbol'\" font-size=\"13.00\">Cage</text>\n",
       "<polygon fill=\"#f5f5f5\" stroke=\"transparent\" points=\"546.5,-225 546.5,-249 593.5,-249 593.5,-225 546.5,-225\"/>\n",
       "<text text-anchor=\"start\" x=\"555.5\" y=\"-234.6\" font-family=\"-apple-system, BlinkMacSystemFont, 'Segoe UI', Helvetica, Arial, sans-serif, 'Apple Color Emoji', 'Segoe UI Emoji', 'Segoe UI Symbol'\" font-style=\"italic\" font-size=\"13.00\">String</text>\n",
       "<polygon fill=\"#ffffff\" stroke=\"transparent\" points=\"422.5,-201 422.5,-225 453.5,-225 453.5,-201 422.5,-201\"/>\n",
       "<polygon fill=\"#ffffff\" stroke=\"transparent\" points=\"453.5,-201 453.5,-225 546.5,-225 546.5,-201 453.5,-201\"/>\n",
       "<text text-anchor=\"start\" x=\"458.5\" y=\"-209.6\" font-family=\"-apple-system, BlinkMacSystemFont, 'Segoe UI', Helvetica, Arial, sans-serif, 'Apple Color Emoji', 'Segoe UI Emoji', 'Segoe UI Symbol'\" font-size=\"13.00\">Nb_pieces</text>\n",
       "<polygon fill=\"#ffffff\" stroke=\"transparent\" points=\"546.5,-201 546.5,-225 593.5,-225 593.5,-201 546.5,-201\"/>\n",
       "<text text-anchor=\"start\" x=\"555.5\" y=\"-210.6\" font-family=\"-apple-system, BlinkMacSystemFont, 'Segoe UI', Helvetica, Arial, sans-serif, 'Apple Color Emoji', 'Segoe UI Emoji', 'Segoe UI Symbol'\" font-style=\"italic\" font-size=\"13.00\">String</text>\n",
       "<polygon fill=\"#f5f5f5\" stroke=\"transparent\" points=\"422.5,-177 422.5,-201 453.5,-201 453.5,-177 422.5,-177\"/>\n",
       "<polygon fill=\"#f5f5f5\" stroke=\"transparent\" points=\"453.5,-177 453.5,-201 546.5,-201 546.5,-177 453.5,-177\"/>\n",
       "<text text-anchor=\"start\" x=\"458.5\" y=\"-185.6\" font-family=\"-apple-system, BlinkMacSystemFont, 'Segoe UI', Helvetica, Arial, sans-serif, 'Apple Color Emoji', 'Segoe UI Emoji', 'Segoe UI Symbol'\" font-size=\"13.00\">Surface</text>\n",
       "<polygon fill=\"#f5f5f5\" stroke=\"transparent\" points=\"546.5,-177 546.5,-201 593.5,-201 593.5,-177 546.5,-177\"/>\n",
       "<text text-anchor=\"start\" x=\"551.5\" y=\"-186.6\" font-family=\"-apple-system, BlinkMacSystemFont, 'Segoe UI', Helvetica, Arial, sans-serif, 'Apple Color Emoji', 'Segoe UI Emoji', 'Segoe UI Symbol'\" font-style=\"italic\" font-size=\"13.00\">double</text>\n",
       "<polygon fill=\"#ffffff\" stroke=\"transparent\" points=\"422.5,-153 422.5,-177 453.5,-177 453.5,-153 422.5,-153\"/>\n",
       "<polygon fill=\"#ffffff\" stroke=\"transparent\" points=\"453.5,-153 453.5,-177 546.5,-177 546.5,-153 453.5,-153\"/>\n",
       "<text text-anchor=\"start\" x=\"458.5\" y=\"-161.6\" font-family=\"-apple-system, BlinkMacSystemFont, 'Segoe UI', Helvetica, Arial, sans-serif, 'Apple Color Emoji', 'Segoe UI Emoji', 'Segoe UI Symbol'\" font-size=\"13.00\">Adresse</text>\n",
       "<polygon fill=\"#ffffff\" stroke=\"transparent\" points=\"546.5,-153 546.5,-177 593.5,-177 593.5,-153 546.5,-153\"/>\n",
       "<text text-anchor=\"start\" x=\"555.5\" y=\"-162.6\" font-family=\"-apple-system, BlinkMacSystemFont, 'Segoe UI', Helvetica, Arial, sans-serif, 'Apple Color Emoji', 'Segoe UI Emoji', 'Segoe UI Symbol'\" font-style=\"italic\" font-size=\"13.00\">String</text>\n",
       "<polygon fill=\"#f5f5f5\" stroke=\"transparent\" points=\"422.5,-129 422.5,-153 453.5,-153 453.5,-129 422.5,-129\"/>\n",
       "<polygon fill=\"#f5f5f5\" stroke=\"transparent\" points=\"453.5,-129 453.5,-153 546.5,-153 546.5,-129 453.5,-129\"/>\n",
       "<text text-anchor=\"start\" x=\"458.5\" y=\"-137.6\" font-family=\"-apple-system, BlinkMacSystemFont, 'Segoe UI', Helvetica, Arial, sans-serif, 'Apple Color Emoji', 'Segoe UI Emoji', 'Segoe UI Symbol'\" font-size=\"13.00\">Gerance</text>\n",
       "<polygon fill=\"#f5f5f5\" stroke=\"transparent\" points=\"546.5,-129 546.5,-153 593.5,-153 593.5,-129 546.5,-129\"/>\n",
       "<text text-anchor=\"start\" x=\"555.5\" y=\"-138.6\" font-family=\"-apple-system, BlinkMacSystemFont, 'Segoe UI', Helvetica, Arial, sans-serif, 'Apple Color Emoji', 'Segoe UI Emoji', 'Segoe UI Symbol'\" font-style=\"italic\" font-size=\"13.00\">String</text>\n",
       "<polygon fill=\"none\" stroke=\"black\" points=\"421,-128 421,-466 594,-466 594,-128 421,-128\"/>\n",
       "</g>\n",
       "<!-- type_compteur&#45;&gt;appartements -->\n",
       "<g id=\"edge3\" class=\"edge\">\n",
       "<title>type_compteur-&gt;appartements</title>\n",
       "<path fill=\"none\" stroke=\"black\" d=\"M201.09,-297C262.33,-297 340.66,-297 402.66,-297\"/>\n",
       "<polygon fill=\"black\" stroke=\"black\" points=\"402.86,-300.5 412.86,-297 402.86,-293.5 402.86,-300.5\"/>\n",
       "<text text-anchor=\"middle\" x=\"300\" y=\"-300.6\" font-family=\"-apple-system, BlinkMacSystemFont, 'Segoe UI', Helvetica, Arial, sans-serif, 'Apple Color Emoji', 'Segoe UI Emoji', 'Segoe UI Symbol'\" font-size=\"13.00\">ID_unit → ID_appt</text>\n",
       "</g>\n",
       "<!-- entite_physique -->\n",
       "<g id=\"node4\" class=\"node\">\n",
       "<title>entite_physique</title>\n",
       "<text text-anchor=\"start\" x=\"460.5\" y=\"-86.6\" font-family=\"-apple-system, BlinkMacSystemFont, 'Segoe UI', Helvetica, Arial, sans-serif, 'Apple Color Emoji', 'Segoe UI Emoji', 'Segoe UI Symbol'\" font-weight=\"bold\" font-size=\"13.00\">entite_physique</text>\n",
       "<polygon fill=\"#f5f5f5\" stroke=\"transparent\" points=\"417.5,-53 417.5,-77 448.5,-77 448.5,-53 417.5,-53\"/>\n",
       "<text text-anchor=\"start\" x=\"422.5\" y=\"-62.6\" font-family=\"-apple-system, BlinkMacSystemFont, 'Segoe UI', Helvetica, Arial, sans-serif, 'Apple Color Emoji', 'Segoe UI Emoji', 'Segoe UI Symbol'\" font-weight=\"bold\" font-size=\"13.00\">key</text>\n",
       "<polygon fill=\"#f5f5f5\" stroke=\"transparent\" points=\"448.5,-53 448.5,-77 554.5,-77 554.5,-53 448.5,-53\"/>\n",
       "<text text-anchor=\"start\" x=\"453.5\" y=\"-61.6\" font-family=\"-apple-system, BlinkMacSystemFont, 'Segoe UI', Helvetica, Arial, sans-serif, 'Apple Color Emoji', 'Segoe UI Emoji', 'Segoe UI Symbol'\" font-size=\"13.00\">ID_unit_physique</text>\n",
       "<polygon fill=\"#f5f5f5\" stroke=\"transparent\" points=\"554.5,-53 554.5,-77 597.5,-77 597.5,-53 554.5,-53\"/>\n",
       "<text text-anchor=\"start\" x=\"559.5\" y=\"-62.6\" font-family=\"-apple-system, BlinkMacSystemFont, 'Segoe UI', Helvetica, Arial, sans-serif, 'Apple Color Emoji', 'Segoe UI Emoji', 'Segoe UI Symbol'\" font-style=\"italic\" font-size=\"13.00\">String</text>\n",
       "<polygon fill=\"#ffffff\" stroke=\"transparent\" points=\"417.5,-29 417.5,-53 448.5,-53 448.5,-29 417.5,-29\"/>\n",
       "<polygon fill=\"#ffffff\" stroke=\"transparent\" points=\"448.5,-29 448.5,-53 554.5,-53 554.5,-29 448.5,-29\"/>\n",
       "<text text-anchor=\"start\" x=\"453.5\" y=\"-37.6\" font-family=\"-apple-system, BlinkMacSystemFont, 'Segoe UI', Helvetica, Arial, sans-serif, 'Apple Color Emoji', 'Segoe UI Emoji', 'Segoe UI Symbol'\" font-size=\"13.00\">nom_unit</text>\n",
       "<polygon fill=\"#ffffff\" stroke=\"transparent\" points=\"554.5,-29 554.5,-53 597.5,-53 597.5,-29 554.5,-29\"/>\n",
       "<text text-anchor=\"start\" x=\"559.5\" y=\"-38.6\" font-family=\"-apple-system, BlinkMacSystemFont, 'Segoe UI', Helvetica, Arial, sans-serif, 'Apple Color Emoji', 'Segoe UI Emoji', 'Segoe UI Symbol'\" font-style=\"italic\" font-size=\"13.00\">String</text>\n",
       "<polygon fill=\"#f5f5f5\" stroke=\"transparent\" points=\"417.5,-5 417.5,-29 448.5,-29 448.5,-5 417.5,-5\"/>\n",
       "<polygon fill=\"#f5f5f5\" stroke=\"transparent\" points=\"448.5,-5 448.5,-29 554.5,-29 554.5,-5 448.5,-5\"/>\n",
       "<text text-anchor=\"start\" x=\"453.5\" y=\"-13.6\" font-family=\"-apple-system, BlinkMacSystemFont, 'Segoe UI', Helvetica, Arial, sans-serif, 'Apple Color Emoji', 'Segoe UI Emoji', 'Segoe UI Symbol'\" font-size=\"13.00\">type_unit</text>\n",
       "<polygon fill=\"#f5f5f5\" stroke=\"transparent\" points=\"554.5,-5 554.5,-29 597.5,-29 597.5,-5 554.5,-5\"/>\n",
       "<text text-anchor=\"start\" x=\"559.5\" y=\"-14.6\" font-family=\"-apple-system, BlinkMacSystemFont, 'Segoe UI', Helvetica, Arial, sans-serif, 'Apple Color Emoji', 'Segoe UI Emoji', 'Segoe UI Symbol'\" font-style=\"italic\" font-size=\"13.00\">String</text>\n",
       "<polygon fill=\"none\" stroke=\"black\" points=\"416.5,-4 416.5,-102 598.5,-102 598.5,-4 416.5,-4\"/>\n",
       "</g>\n",
       "<!-- type_compteur&#45;&gt;entite_physique -->\n",
       "<g id=\"edge2\" class=\"edge\">\n",
       "<title>type_compteur-&gt;entite_physique</title>\n",
       "<path fill=\"none\" stroke=\"black\" d=\"M201.29,-235.06C258.87,-199.55 332.76,-154.35 399,-115 400.99,-113.82 403.01,-112.62 405.04,-111.42\"/>\n",
       "<polygon fill=\"black\" stroke=\"black\" points=\"407.21,-114.2 414.05,-106.11 403.66,-108.17 407.21,-114.2\"/>\n",
       "<text text-anchor=\"middle\" x=\"300\" y=\"-225.6\" font-family=\"-apple-system, BlinkMacSystemFont, 'Segoe UI', Helvetica, Arial, sans-serif, 'Apple Color Emoji', 'Segoe UI Emoji', 'Segoe UI Symbol'\" font-size=\"13.00\">ID_unit → ID_unit_physique</text>\n",
       "</g>\n",
       "</g>\n",
       "</svg>"
      ],
      "text/plain": [
       "<IPython.core.display.SVG object>"
      ]
     },
     "execution_count": 9,
     "metadata": {},
     "output_type": "execute_result"
    }
   ],
   "source": [
    "session.stores.schema"
   ]
  },
  {
   "cell_type": "code",
   "execution_count": 10,
   "id": "rocky-borough",
   "metadata": {},
   "outputs": [],
   "source": [
    "# creation d'un cube permettant de voir toutes les valeurs de compteurs ( facture inclus)\n",
    "# et tous les appartements même ceux sans valeur de compteurs\n",
    "cube = session.create_cube(store_type_compteurs)"
   ]
  },
  {
   "cell_type": "code",
   "execution_count": 11,
   "id": "acting-slide",
   "metadata": {},
   "outputs": [],
   "source": [
    "# nettoyage des mesures et hierarchies auto-générées\n",
    "cube_hierarchies, cube_measures, cube_levels   = cube.hierarchies, cube.measures, cube.levels"
   ]
  },
  {
   "cell_type": "code",
   "execution_count": 12,
   "id": "inclusive-small",
   "metadata": {},
   "outputs": [],
   "source": [
    "cube_hierarchies[\"Localisation\"] = [cube_levels[\"Groupe\"],\n",
    "                                    cube_levels[\"PEC\"] ,\n",
    "                                    cube_levels[\"Batiment\"],\n",
    "                                    cube_levels[\"Etage\"],\n",
    "                                    cube_levels[\"Cage\"]]\n",
    "del cube_hierarchies[\"Groupe\"]\n",
    "del cube_hierarchies[\"PEC\"]\n",
    "del cube_hierarchies[\"Batiment\"]\n",
    "del cube_hierarchies[\"Etage\"]\n",
    "del cube_hierarchies[\"Cage\"]\n"
   ]
  },
  {
   "cell_type": "code",
   "execution_count": 13,
   "id": "identified-deposit",
   "metadata": {},
   "outputs": [
    {
     "data": {
      "application/json": {
       "appartements": {
        "Adresse": [
         "Adresse"
        ],
        "Gerance": [
         "Gerance"
        ],
        "Localisation": [
         "Groupe",
         "PEC",
         "Batiment",
         "Etage",
         "Cage"
        ],
        "Lot": [
         "Lot"
        ],
        "Nb_pieces": [
         "Nb_pieces"
        ],
        "Nom_Locataire": [
         "Nom_Locataire"
        ],
        "Profil": [
         "Profil"
        ]
       },
       "compteurs": {
        "Annee": [
         "Annee"
        ],
        "Date": [
         "Date"
        ],
        "Jour": [
         "Jour"
        ],
        "Mois": [
         "Mois"
        ]
       },
       "entite_physique": {
        "nom_unit": [
         "nom_unit"
        ],
        "type_unit": [
         "type_unit"
        ]
       },
       "type_compteur": {
        "ID_compteur": [
         "ID_compteur"
        ],
        "ID_unit": [
         "ID_unit"
        ],
        "Niveau": [
         "Niveau"
        ],
        "Type_aggregation": [
         "Type_aggregation"
        ],
        "Type_compteur": [
         "Type_compteur"
        ],
        "Type_intervalle": [
         "Type_intervalle"
        ],
        "Unite": [
         "Unite"
        ]
       }
      },
      "text/html": [
       "<ul>\n",
       "<li>Dimensions\n",
       "  <ul>\n",
       "  <li>appartements\n",
       "    <ul>\n",
       "    <li>Adresse\n",
       "      <ol>\n",
       "      <li>Adresse</li>\n",
       "      </ol>    </li>\n",
       "    <li>Gerance\n",
       "      <ol>\n",
       "      <li>Gerance</li>\n",
       "      </ol>    </li>\n",
       "    <li>Localisation\n",
       "      <ol>\n",
       "      <li>Groupe</li>\n",
       "      <li>PEC</li>\n",
       "      <li>Batiment</li>\n",
       "      <li>Etage</li>\n",
       "      <li>Cage</li>\n",
       "      </ol>    </li>\n",
       "    <li>Lot\n",
       "      <ol>\n",
       "      <li>Lot</li>\n",
       "      </ol>    </li>\n",
       "    <li>Nb_pieces\n",
       "      <ol>\n",
       "      <li>Nb_pieces</li>\n",
       "      </ol>    </li>\n",
       "    <li>Nom_Locataire\n",
       "      <ol>\n",
       "      <li>Nom_Locataire</li>\n",
       "      </ol>    </li>\n",
       "    <li>Profil\n",
       "      <ol>\n",
       "      <li>Profil</li>\n",
       "      </ol>    </li>\n",
       "    </ul>\n",
       "  </li>\n",
       "  <li>compteurs\n",
       "    <ul>\n",
       "    <li>Annee\n",
       "      <ol>\n",
       "      <li>Annee</li>\n",
       "      </ol>    </li>\n",
       "    <li>Date\n",
       "      <ol>\n",
       "      <li>Date</li>\n",
       "      </ol>    </li>\n",
       "    <li>Jour\n",
       "      <ol>\n",
       "      <li>Jour</li>\n",
       "      </ol>    </li>\n",
       "    <li>Mois\n",
       "      <ol>\n",
       "      <li>Mois</li>\n",
       "      </ol>    </li>\n",
       "    </ul>\n",
       "  </li>\n",
       "  <li>entite_physique\n",
       "    <ul>\n",
       "    <li>nom_unit\n",
       "      <ol>\n",
       "      <li>nom_unit</li>\n",
       "      </ol>    </li>\n",
       "    <li>type_unit\n",
       "      <ol>\n",
       "      <li>type_unit</li>\n",
       "      </ol>    </li>\n",
       "    </ul>\n",
       "  </li>\n",
       "  <li>type_compteur\n",
       "    <ul>\n",
       "    <li>ID_compteur\n",
       "      <ol>\n",
       "      <li>ID_compteur</li>\n",
       "      </ol>    </li>\n",
       "    <li>ID_unit\n",
       "      <ol>\n",
       "      <li>ID_unit</li>\n",
       "      </ol>    </li>\n",
       "    <li>Niveau\n",
       "      <ol>\n",
       "      <li>Niveau</li>\n",
       "      </ol>    </li>\n",
       "    <li>Type_aggregation\n",
       "      <ol>\n",
       "      <li>Type_aggregation</li>\n",
       "      </ol>    </li>\n",
       "    <li>Type_compteur\n",
       "      <ol>\n",
       "      <li>Type_compteur</li>\n",
       "      </ol>    </li>\n",
       "    <li>Type_intervalle\n",
       "      <ol>\n",
       "      <li>Type_intervalle</li>\n",
       "      </ol>    </li>\n",
       "    <li>Unite\n",
       "      <ol>\n",
       "      <li>Unite</li>\n",
       "      </ol>    </li>\n",
       "    </ul>\n",
       "  </li>\n",
       "  </ul>\n",
       "</li>\n",
       "</ul>\n"
      ],
      "text/plain": [
       "Hierarchies()"
      ]
     },
     "execution_count": 13,
     "metadata": {
      "application/json": {
       "expanded": true,
       "root": "Dimensions"
      }
     },
     "output_type": "execute_result"
    }
   ],
   "source": [
    "cube_hierarchies"
   ]
  },
  {
   "cell_type": "code",
   "execution_count": 14,
   "id": "fifth-holmes",
   "metadata": {},
   "outputs": [
    {
     "data": {
      "application/json": {
       "Surface.MOY": {
        "formatter": "DOUBLE[0.00]"
       },
       "Surface.SOMME": {
        "formatter": "DOUBLE[0.00]"
       },
       "Valeur_compteur.MOY": {
        "formatter": "DOUBLE[0.00]"
       },
       "contributors.COUNT": {
        "formatter": "INT[#,###]"
       }
      },
      "text/html": [
       "<ul>\n",
       "<li>Measures\n",
       "  <ul>\n",
       "  <li>Surface.MOY\n",
       "    <ul>\n",
       "    <li>formatter: DOUBLE[0.00]</li>\n",
       "    </ul>\n",
       "  </li>\n",
       "  <li>Surface.SOMME\n",
       "    <ul>\n",
       "    <li>formatter: DOUBLE[0.00]</li>\n",
       "    </ul>\n",
       "  </li>\n",
       "  <li>Valeur_compteur.MOY\n",
       "    <ul>\n",
       "    <li>formatter: DOUBLE[0.00]</li>\n",
       "    </ul>\n",
       "  </li>\n",
       "  <li>contributors.COUNT\n",
       "    <ul>\n",
       "    <li>formatter: INT[#,###]</li>\n",
       "    </ul>\n",
       "  </li>\n",
       "  </ul>\n",
       "</li>\n",
       "</ul>\n"
      ],
      "text/plain": [
       "Measures()"
      ]
     },
     "execution_count": 14,
     "metadata": {
      "application/json": {
       "expanded": false,
       "root": "Measures"
      }
     },
     "output_type": "execute_result"
    }
   ],
   "source": [
    "# creation de mesures de base\n",
    "cube_measures[\"Valeur_compteur.MOY\"] = tt.agg.mean(store_compteurs[\"valeur_compteur\"])\n",
    "cube_measures[\"Surface.SOMME\"] = tt.agg.sum(store_appt[\"Surface\"])\n",
    "cube_measures[\"Surface.MOY\"] = tt.agg.mean(store_appt[\"Surface\"])\n",
    "# format desmesures de base\n",
    "cube_measures[\"Valeur_compteur.MOY\"].formatter = \"DOUBLE[0.00]\"\n",
    "cube_measures[\"Surface.SOMME\"].formatter = \"DOUBLE[0.00]\"\n",
    "cube_measures[\"Surface.MOY\"].formatter = \"DOUBLE[0.00]\"\n",
    "cube_measures"
   ]
  },
  {
   "cell_type": "code",
   "execution_count": 15,
   "id": "purple-nebraska",
   "metadata": {
    "atoti": {
     "widget": {
      "mapping": {
       "columns": [
        "ALL_MEASURES"
       ],
       "measures": [
        "[Measures].[Valeur_compteur.MOY]"
       ],
       "rows": [
        "[type_compteur].[Type_compteur].[Type_compteur]",
        "[compteurs].[Date].[Date]"
       ]
      },
      "query": {
       "mdx": "SELECT NON EMPTY Crossjoin(Hierarchize(Descendants({[type_compteur].[Type_compteur].[AllMember]}, 1, SELF_AND_BEFORE)), Hierarchize(Descendants({[compteurs].[Date].[AllMember]}, 1, SELF_AND_BEFORE))) ON ROWS, NON EMPTY {[Measures].[Valeur_compteur.MOY]} ON COLUMNS FROM [type_compteur]",
       "updateMode": "once"
      },
      "serverKey": "default",
      "widgetKey": "pivot-table"
     }
    },
    "tags": []
   },
   "outputs": [
    {
     "data": {
      "application/vnd.atoti.widget.v0+json": {
       "name": null,
       "session": "Emgt_nrj_monitoring"
      },
      "text/html": [
       "<img src=\"data:image/svg+xml;charset=utf8,%3C%3Fxml%20version%3D%221.0%22%20standalone%3D%22no%22%3F%3E%3Csvg%20xmlns%3D%22http%3A%2F%2Fwww.w3.org%2F2000%2Fsvg%22%20height%3D%22348%22%20width%3D%221087%22%3E%3CforeignObject%20width%3D%22100%25%22%20height%3D%22100%25%22%20x%3D%220%22%20y%3D%220%22%3E%3Cstyle%20xmlns%3D%22http%3A%2F%2Fwww.w3.org%2F1999%2Fxhtml%22%20type%3D%22text%2Fcss%22%3E*%2C%20%3A%3Abefore%2C%20%3A%3Aafter%20%7Bbox-sizing%3A%20unset%7D%0A.ant-root%20%5Bclass%5E%3D%22ant-%22%5D%2C%20.ant-root%20%5Bclass*%3D%22ant-%22%5D%2C%20.ant-root%20%5Bclass%5E%3D%22ant-%22%5D%20*%2C%20.ant-root%20%5Bclass*%3D%22ant-%22%5D%20*%2C%20.ant-root%20%5Bclass%5E%3D%22ant-%22%5D%20%3A%3Abefore%2C%20.ant-root%20%5Bclass*%3D%22ant-%22%5D%20%3A%3Abefore%2C%20.ant-root%20%5Bclass%5E%3D%22ant-%22%5D%20%3A%3Aafter%2C%20.ant-root%20%5Bclass*%3D%22ant-%22%5D%20%3A%3Aafter%20%7Bbox-sizing%3A%20border-box%7D%0A.ant-root%20html%2C%20.ant-root%20%7Bwidth%3A%20100%25%3B%20height%3A%20100%25%7D%0A.ant-root%20*%2C%20.ant-root%20%3A%3Abefore%2C%20.ant-root%20%3A%3Aafter%20%7Bbox-sizing%3A%20border-box%7D%0A.ant-root%20%7Bmargin-top%3A%200px%3B%20margin-right%3A%200px%3B%20margin-bottom%3A%200px%3B%20margin-left%3A%200px%3B%20color%3A%20rgb(89%2C%2089%2C%2089)%3B%20font-size%3A%2012px%3B%20font-family%3A%20-apple-system%2C%20BlinkMacSystemFont%2C%20%22Segoe%20UI%22%2C%20Roboto%2C%20%22Helvetica%20Neue%22%2C%20Arial%2C%20%22Noto%20Sans%22%2C%20sans-serif%2C%20%22Apple%20Color%20Emoji%22%2C%20%22Segoe%20UI%20Emoji%22%2C%20%22Segoe%20UI%20Symbol%22%2C%20%22Noto%20Color%20Emoji%22%3B%20font-variant-ligatures%3A%20normal%3B%20font-variant-numeric%3A%20tabular-nums%3B%20font-variant-east-asian%3A%20normal%3B%20font-variant-caps%3A%20normal%3B%20line-height%3A%201.66667%3B%20background-color%3A%20rgb(255%2C%20255%2C%20255)%3B%20--antd-wave-shadow-color%3A%20undefined%3B%20--scroll-bar%3A%20undefined%7D%0A.ant-root%20.ant-spin%20%7Bbox-sizing%3A%20border-box%3B%20margin-top%3A%200px%3B%20margin-right%3A%200px%3B%20margin-bottom%3A%200px%3B%20margin-left%3A%200px%3B%20padding-top%3A%200px%3B%20padding-right%3A%200px%3B%20padding-bottom%3A%200px%3B%20padding-left%3A%200px%3B%20font-size%3A%2012px%3B%20font-variant-ligatures%3A%20normal%3B%20font-variant-numeric%3A%20tabular-nums%3B%20font-variant-east-asian%3A%20normal%3B%20font-variant-caps%3A%20normal%3B%20line-height%3A%201.66667%3B%20list-style-position%3A%20initial%3B%20list-style-image%3A%20initial%3B%20list-style-type%3A%20none%3B%20position%3A%20absolute%3B%20display%3A%20none%3B%20color%3A%20rgb(0%2C%20174%2C%20239)%3B%20text-align%3A%20center%3B%20vertical-align%3A%20middle%3B%20opacity%3A%200%3B%20transition-duration%3A%200.3s%3B%20transition-timing-function%3A%20cubic-bezier(0.78%2C%200.14%2C%200.15%2C%200.86)%3B%20transition-delay%3A%200s%3B%20transition-property%3A%20transform%7D%0A.ant-root%20.ant-spin-spinning%20%7Bposition%3A%20static%3B%20display%3A%20inline-block%3B%20opacity%3A%201%7D%0A.ant-root%20.ant-spin-dot%20%7Bposition%3A%20relative%3B%20display%3A%20inline-block%3B%20font-size%3A%2020px%3B%20width%3A%201em%3B%20height%3A%201em%7D%0A.ant-root%20.ant-spin-dot-item%20%7Bposition%3A%20absolute%3B%20display%3A%20block%3B%20width%3A%209px%3B%20height%3A%209px%3B%20background-color%3A%20rgb(0%2C%20174%2C%20239)%3B%20border-top-left-radius%3A%20100%25%3B%20border-top-right-radius%3A%20100%25%3B%20border-bottom-right-radius%3A%20100%25%3B%20border-bottom-left-radius%3A%20100%25%3B%20transform%3A%20scale(0.75)%3B%20transform-origin%3A%2050%25%2050%25%3B%20opacity%3A%200.3%3B%20animation-duration%3A%201s%3B%20animation-timing-function%3A%20linear%3B%20animation-delay%3A%200s%3B%20animation-iteration-count%3A%20infinite%3B%20animation-direction%3A%20alternate%3B%20animation-fill-mode%3A%20none%3B%20animation-play-state%3A%20running%3B%20animation-name%3A%20antSpinMove%7D%0A.ant-root%20.ant-spin-dot-item%3Anth-child(1)%20%7Btop%3A%200px%3B%20left%3A%200px%7D%0A.ant-root%20.ant-spin-dot-item%3Anth-child(2)%20%7Btop%3A%200px%3B%20right%3A%200px%3B%20animation-delay%3A%200.4s%7D%0A.ant-root%20.ant-spin-dot-item%3Anth-child(3)%20%7Bright%3A%200px%3B%20bottom%3A%200px%3B%20animation-delay%3A%200.8s%7D%0A.ant-root%20.ant-spin-dot-item%3Anth-child(4)%20%7Bbottom%3A%200px%3B%20left%3A%200px%3B%20animation-delay%3A%201.2s%7D%0A.ant-root%20.ant-spin-dot-spin%20%7Btransform%3A%20rotate(45deg)%3B%20animation-duration%3A%201.2s%3B%20animation-timing-function%3A%20linear%3B%20animation-delay%3A%200s%3B%20animation-iteration-count%3A%20infinite%3B%20animation-direction%3A%20normal%3B%20animation-fill-mode%3A%20none%3B%20animation-play-state%3A%20running%3B%20animation-name%3A%20antRotate%7D%0A.ant-root%20.ant-spin-lg%20.ant-spin-dot%20%7Bfont-size%3A%2032px%7D%0A.ant-root%20.ant-spin-lg%20.ant-spin-dot%20i%20%7Bwidth%3A%2014px%3B%20height%3A%2014px%7D%0A.css-12ebr42-AWidget%20%7Bheight%3A%20100%25%7D%0A.css-1e3kjgr-Spinner%20%7Bheight%3A%20100%25%3B%20position%3A%20relative%7D%0A.css-ck2xzt-Spinner%20%7B-webkit-box-align%3A%20center%3B%20align-items%3A%20center%3B%20background-image%3A%20initial%3B%20background-position-x%3A%20initial%3B%20background-position-y%3A%20initial%3B%20background-size%3A%20initial%3B%20background-repeat-x%3A%20initial%3B%20background-repeat-y%3A%20initial%3B%20background-attachment%3A%20initial%3B%20background-origin%3A%20initial%3B%20background-clip%3A%20initial%3B%20background-color%3A%20transparent%3B%20display%3A%20flex%3B%20height%3A%20100%25%3B%20-webkit-box-pack%3A%20center%3B%20justify-content%3A%20center%3B%20position%3A%20absolute%3B%20transition-duration%3A%20300ms%3B%20transition-timing-function%3A%20ease%3B%20transition-delay%3A%200s%3B%20transition-property%3A%20opacity%3B%20width%3A%20100%25%3B%20opacity%3A%200%3B%20pointer-events%3A%20none%3B%20z-index%3A%202%7D%0A.css-1hwl8p1-Table%20%7Bpadding-bottom%3A%202px%3B%20padding-right%3A%202px%3B%20height%3A%20100%25%7D%0A.css-1v2r0fb-Table%20%7Bheight%3A%20100%25%3B%20outline-color%3A%20initial%3B%20outline-style%3A%20none%3B%20outline-width%3A%20initial%3B%20position%3A%20relative%7D%0A.css-1rxpjm0-ColumnResizeHint%20%7Bdisplay%3A%20none%3B%20position%3A%20absolute%3B%20z-index%3A%201%7D%0A.css-2vqdc6-ColumnResizeHint%20%7Bheight%3A%2028px%3B%20background-color%3A%20rgb(0%2C%20174%2C%20239)%3B%20width%3A%205px%7D%0A.css-1vf6w7d-ColumnResizeHint%20%7Bdisplay%3A%20none%3B%20float%3A%20right%3B%20height%3A%20318px%3B%20background-color%3A%20rgb(0%2C%20174%2C%20239)%3B%20opacity%3A%200.4%3B%20width%3A%202px%7D%0A.css-16sdsf5-Table%20%7Bdisplay%3A%20flex%3B%20height%3A%20346px%7D%0A.css-1hol363-ResizableCell%20%7Bdisplay%3A%20flex%3B%20flex-direction%3A%20column%3B%20position%3A%20absolute%3B%20top%3A%200px%3B%20left%3A%200px%3B%20height%3A%2028px%3B%20width%3A%20120px%7D%0A.css-xxcrt1-ResizableCell%20%7Bbackground-image%3A%20initial%3B%20background-position-x%3A%20initial%3B%20background-position-y%3A%20initial%3B%20background-size%3A%20initial%3B%20background-repeat-x%3A%20initial%3B%20background-repeat-y%3A%20initial%3B%20background-attachment%3A%20initial%3B%20background-origin%3A%20initial%3B%20background-clip%3A%20initial%3B%20background-color%3A%20transparent%3B%20cursor%3A%20col-resize%3B%20height%3A%20100%25%3B%20position%3A%20absolute%3B%20right%3A%200px%3B%20width%3A%205px%3B%20z-index%3A%201%7D%0A.css-cjaqq6-Table%20%7Bborder-collapse%3A%20collapse%3B%20height%3A%2028px%3B%20width%3A%20240px%7D%0A.css-17cmzye%20%7Bheight%3A%2028px%3B%20width%3A%20240px%7D%0A.css-1uw7a17%20%7Bcursor%3A%20cell%3B%20height%3A%2028px%3B%20overflow-x%3A%20hidden%3B%20overflow-y%3A%20hidden%3B%20position%3A%20relative%3B%20width%3A%20240px%3B%20border-right-width%3A%202px%3B%20border-right-style%3A%20solid%3B%20border-right-color%3A%20rgb(233%2C%20233%2C%20233)%7D%0A.css-fpuq48-ResizableCell%20%7Bdisplay%3A%20flex%3B%20flex-direction%3A%20column%3B%20position%3A%20absolute%3B%20top%3A%200px%3B%20left%3A%20120px%3B%20height%3A%2028px%3B%20width%3A%20120px%7D%0A.css-qhljdd%20%7Bheight%3A%20318px%3B%20width%3A%20240px%3B%20overflow-x%3A%20hidden%3B%20overflow-y%3A%20auto%7D%0A.css-104j6as-Table%20%7Bwidth%3A%20846px%3B%20border-collapse%3A%20collapse%7D%0A.css-1i9v0ao%20%7Bheight%3A%2028px%3B%20width%3A%20828px%3B%20overflow-x%3A%20auto%3B%20overflow-y%3A%20hidden%7D%0A.css-wjxchf%20%7Bheight%3A%20318px%3B%20width%3A%20846px%3B%20overflow-x%3A%20auto%3B%20overflow-y%3A%20auto%7D%0A.css-1toshix%20%7Bcursor%3A%20cell%3B%20height%3A%2028px%3B%20overflow-x%3A%20hidden%3B%20overflow-y%3A%20hidden%3B%20position%3A%20relative%3B%20width%3A%20120px%7D%0A.css-1dd5lef%20%7Bcursor%3A%20cell%3B%20height%3A%201904px%3B%20overflow-x%3A%20hidden%3B%20overflow-y%3A%20hidden%3B%20position%3A%20relative%3B%20width%3A%20240px%3B%20border-top-width%3A%202px%3B%20border-top-style%3A%20solid%3B%20border-top-color%3A%20rgb(233%2C%20233%2C%20233)%3B%20border-right-width%3A%202px%3B%20border-right-style%3A%20solid%3B%20border-right-color%3A%20rgb(233%2C%20233%2C%20233)%7D%0A.css-r3z2g3%20%7Bcursor%3A%20cell%3B%20height%3A%201904px%3B%20overflow-x%3A%20hidden%3B%20overflow-y%3A%20hidden%3B%20position%3A%20relative%3B%20width%3A%20120px%3B%20border-top-width%3A%202px%3B%20border-top-style%3A%20solid%3B%20border-top-color%3A%20rgb(233%2C%20233%2C%20233)%7D%0A*%20%7B-ms-overflow-style%3A%20none%3B%20scrollbar-width%3A%20none%7D%0A*%3A%3A-webkit-scrollbar%20%7Bdisplay%3A%20none%7D%3C%2Fstyle%3E%3Cdiv%20xmlns%3D%22http%3A%2F%2Fwww.w3.org%2F1999%2Fxhtml%22%20style%3D%22height%3A%20348px%3B%20width%3A%201087px%3B%22%3E%3Cdiv%20class%3D%22ant-root%20css-0%22%3E%3Cdiv%20class%3D%22ant-dropdown-trigger%20css-12ebr42-AWidget%22%3E%3Cdiv%20class%3D%22css-1e3kjgr-Spinner%22%3E%3Cdiv%20class%3D%22css-ck2xzt-Spinner%22%3E%3Cdiv%20class%3D%22ant-spin%20ant-spin-lg%20ant-spin-spinning%22%3E%3Cspan%20class%3D%22ant-spin-dot%20ant-spin-dot-spin%22%3E%3Ci%20class%3D%22ant-spin-dot-item%22%3E%3C%2Fi%3E%3Ci%20class%3D%22ant-spin-dot-item%22%3E%3C%2Fi%3E%3Ci%20class%3D%22ant-spin-dot-item%22%3E%3C%2Fi%3E%3Ci%20class%3D%22ant-spin-dot-item%22%3E%3C%2Fi%3E%3C%2Fspan%3E%3C%2Fdiv%3E%3C%2Fdiv%3E%3Cdiv%20class%3D%22css-1hwl8p1-Table%22%3E%3Cdiv%20tabindex%3D%220%22%20class%3D%22css-1v2r0fb-Table%22%3E%3Cdiv%20class%3D%22css-1rxpjm0-ColumnResizeHint%22%3E%3Cdiv%20class%3D%22css-2vqdc6-ColumnResizeHint%22%3E%3C%2Fdiv%3E%3Cdiv%20class%3D%22css-1vf6w7d-ColumnResizeHint%22%3E%3C%2Fdiv%3E%3C%2Fdiv%3E%3Cdiv%20class%3D%22css-16sdsf5-Table%22%3E%3Cdiv%20class%3D%22css-cjaqq6-Table%22%3E%3Cdiv%20class%3D%22css-17cmzye%22%3E%3Cdiv%20class%3D%22css-1uw7a17%22%3E%3Cdiv%20class%3D%22css-1hol363-ResizableCell%22%3E%3Cdiv%20class%3D%22aui-table-cell%22%20style%3D%22font-size%3A%2012px%3B%20height%3A%2028px%3B%20left%3A%200px%3B%20padding%3A%204px%204px%203px%3B%20overflow%3A%20hidden%3B%20position%3A%20absolute%3B%20text-align%3A%20left%3B%20top%3A%200px%3B%20width%3A%20115px%3B%20font-weight%3A%20600%3B%20display%3A%20flex%3B%20align-items%3A%20center%3B%22%3E%3Cspan%3EType_compteur%3C%2Fspan%3E%3C%2Fdiv%3E%3Cdiv%20class%3D%22css-xxcrt1-ResizableCell%22%3E%3C%2Fdiv%3E%3C%2Fdiv%3E%3Cdiv%20class%3D%22css-fpuq48-ResizableCell%22%3E%3Cdiv%20class%3D%22aui-table-cell%22%20style%3D%22font-size%3A%2012px%3B%20height%3A%2028px%3B%20left%3A%200px%3B%20padding%3A%204px%204px%203px%3B%20overflow%3A%20hidden%3B%20position%3A%20absolute%3B%20text-align%3A%20left%3B%20top%3A%200px%3B%20width%3A%20115px%3B%20font-weight%3A%20600%3B%20display%3A%20flex%3B%20align-items%3A%20center%3B%22%3E%3Cspan%3EDate%3C%2Fspan%3E%3C%2Fdiv%3E%3Cdiv%20class%3D%22css-xxcrt1-ResizableCell%22%3E%3C%2Fdiv%3E%3C%2Fdiv%3E%3C%2Fdiv%3E%3C%2Fdiv%3E%3Cdiv%20class%3D%22css-qhljdd%22%3E%3Cdiv%20class%3D%22css-1dd5lef%22%20style%3D%22top%3A%20-1312.8px%3B%22%3E%3Cdiv%20style%3D%22overflow%3A%20hidden%3B%20display%3A%20none%3B%20align-items%3A%20center%3B%20font-size%3A%2012px%3B%20height%3A%2028px%3B%20left%3A%200px%3B%20padding%3A%204px%204px%203px%3B%20position%3A%20absolute%3B%20text-align%3A%20left%3B%20top%3A%201288px%3B%20width%3A%20120px%3B%20font-weight%3A%20600%3B%20border-top%3A%201px%20solid%20rgb(233%2C%20233%2C%20233)%3B%22%3E%3Cspan%20style%3D%22text-overflow%3A%20ellipsis%3B%20overflow%3A%20hidden%3B%20white-space%3A%20nowrap%3B%20max-width%3A%20calc((100%25%20-%200px)%20-%200px)%3B%22%3Echauffage%3C%2Fspan%3E%3C%2Fdiv%3E%3Cdiv%20style%3D%22overflow%3A%20hidden%3B%20display%3A%20flex%3B%20align-items%3A%20center%3B%20font-size%3A%2012px%3B%20height%3A%2028px%3B%20left%3A%20120px%3B%20padding%3A%204px%204px%203px%3B%20position%3A%20absolute%3B%20text-align%3A%20left%3B%20top%3A%201288px%3B%20width%3A%20120px%3B%20border-right%3A%202px%20solid%20rgb(233%2C%20233%2C%20233)%3B%20border-top%3A%201px%20solid%20rgb(233%2C%20233%2C%20233)%3B%22%3E%3Cspan%20style%3D%22text-overflow%3A%20ellipsis%3B%20overflow%3A%20hidden%3B%20white-space%3A%20nowrap%3B%20max-width%3A%20calc((100%25%20-%200px)%20-%200px)%3B%22%3E2021-03-31%3C%2Fspan%3E%3C%2Fdiv%3E%3Cdiv%20style%3D%22overflow%3A%20hidden%3B%20display%3A%20flex%3B%20align-items%3A%20center%3B%20font-size%3A%2012px%3B%20height%3A%2028px%3B%20left%3A%200px%3B%20padding%3A%204px%204px%203px%3B%20position%3A%20absolute%3B%20text-align%3A%20left%3B%20top%3A%201316px%3B%20width%3A%20120px%3B%20border-top%3A%201px%20solid%20rgb(233%2C%20233%2C%20233)%3B%20font-weight%3A%20600%3B%22%3E%3Cspan%20style%3D%22text-overflow%3A%20ellipsis%3B%20overflow%3A%20hidden%3B%20white-space%3A%20nowrap%3B%20max-width%3A%20calc((100%25%20-%200px)%20-%200px)%3B%22%3Eeau_froide%3C%2Fspan%3E%3C%2Fdiv%3E%3Cdiv%20style%3D%22overflow%3A%20hidden%3B%20display%3A%20flex%3B%20align-items%3A%20center%3B%20font-size%3A%2012px%3B%20height%3A%2028px%3B%20left%3A%20120px%3B%20padding%3A%204px%204px%203px%3B%20position%3A%20absolute%3B%20text-align%3A%20left%3B%20top%3A%201316px%3B%20width%3A%20120px%3B%20border-right%3A%202px%20solid%20rgb(233%2C%20233%2C%20233)%3B%20border-top%3A%201px%20solid%20rgb(233%2C%20233%2C%20233)%3B%22%3E%3Cspan%20style%3D%22text-overflow%3A%20ellipsis%3B%20overflow%3A%20hidden%3B%20white-space%3A%20nowrap%3B%20max-width%3A%20calc((100%25%20-%200px)%20-%200px)%3B%22%3E%3C%2Fspan%3E%3C%2Fdiv%3E%3Cdiv%20style%3D%22overflow%3A%20hidden%3B%20display%3A%20none%3B%20align-items%3A%20center%3B%20font-size%3A%2012px%3B%20height%3A%2028px%3B%20left%3A%200px%3B%20padding%3A%204px%204px%203px%3B%20position%3A%20absolute%3B%20text-align%3A%20left%3B%20top%3A%201344px%3B%20width%3A%20120px%3B%20font-weight%3A%20600%3B%22%3E%3Cspan%20style%3D%22text-overflow%3A%20ellipsis%3B%20overflow%3A%20hidden%3B%20white-space%3A%20nowrap%3B%20max-width%3A%20calc((100%25%20-%200px)%20-%200px)%3B%22%3Eeau_froide%3C%2Fspan%3E%3C%2Fdiv%3E%3Cdiv%20style%3D%22overflow%3A%20hidden%3B%20display%3A%20flex%3B%20align-items%3A%20center%3B%20font-size%3A%2012px%3B%20height%3A%2028px%3B%20left%3A%20120px%3B%20padding%3A%204px%204px%203px%3B%20position%3A%20absolute%3B%20text-align%3A%20left%3B%20top%3A%201344px%3B%20width%3A%20120px%3B%20background-color%3A%20rgb(250%2C%20250%2C%20250)%3B%20border-right%3A%202px%20solid%20rgb(233%2C%20233%2C%20233)%3B%22%3E%3Cspan%20style%3D%22text-overflow%3A%20ellipsis%3B%20overflow%3A%20hidden%3B%20white-space%3A%20nowrap%3B%20max-width%3A%20calc((100%25%20-%200px)%20-%200px)%3B%22%3EN%2FA%3C%2Fspan%3E%3C%2Fdiv%3E%3Cdiv%20style%3D%22overflow%3A%20hidden%3B%20display%3A%20none%3B%20align-items%3A%20center%3B%20font-size%3A%2012px%3B%20height%3A%2028px%3B%20left%3A%200px%3B%20padding%3A%204px%204px%203px%3B%20position%3A%20absolute%3B%20text-align%3A%20left%3B%20top%3A%201372px%3B%20width%3A%20120px%3B%20font-weight%3A%20600%3B%22%3E%3Cspan%20style%3D%22text-overflow%3A%20ellipsis%3B%20overflow%3A%20hidden%3B%20white-space%3A%20nowrap%3B%20max-width%3A%20calc((100%25%20-%200px)%20-%200px)%3B%22%3Eeau_froide%3C%2Fspan%3E%3C%2Fdiv%3E%3Cdiv%20style%3D%22overflow%3A%20hidden%3B%20display%3A%20flex%3B%20align-items%3A%20center%3B%20font-size%3A%2012px%3B%20height%3A%2028px%3B%20left%3A%20120px%3B%20padding%3A%204px%204px%203px%3B%20position%3A%20absolute%3B%20text-align%3A%20left%3B%20top%3A%201372px%3B%20width%3A%20120px%3B%20border-right%3A%202px%20solid%20rgb(233%2C%20233%2C%20233)%3B%22%3E%3Cspan%20style%3D%22text-overflow%3A%20ellipsis%3B%20overflow%3A%20hidden%3B%20white-space%3A%20nowrap%3B%20max-width%3A%20calc((100%25%20-%200px)%20-%200px)%3B%22%3E2021-03-17%3C%2Fspan%3E%3C%2Fdiv%3E%3Cdiv%20style%3D%22overflow%3A%20hidden%3B%20display%3A%20none%3B%20align-items%3A%20center%3B%20font-size%3A%2012px%3B%20height%3A%2028px%3B%20left%3A%200px%3B%20padding%3A%204px%204px%203px%3B%20position%3A%20absolute%3B%20text-align%3A%20left%3B%20top%3A%201400px%3B%20width%3A%20120px%3B%20font-weight%3A%20600%3B%22%3E%3Cspan%20style%3D%22text-overflow%3A%20ellipsis%3B%20overflow%3A%20hidden%3B%20white-space%3A%20nowrap%3B%20max-width%3A%20calc((100%25%20-%200px)%20-%200px)%3B%22%3Eeau_froide%3C%2Fspan%3E%3C%2Fdiv%3E%3Cdiv%20style%3D%22overflow%3A%20hidden%3B%20display%3A%20flex%3B%20align-items%3A%20center%3B%20font-size%3A%2012px%3B%20height%3A%2028px%3B%20left%3A%20120px%3B%20padding%3A%204px%204px%203px%3B%20position%3A%20absolute%3B%20text-align%3A%20left%3B%20top%3A%201400px%3B%20width%3A%20120px%3B%20background-color%3A%20rgb(250%2C%20250%2C%20250)%3B%20border-right%3A%202px%20solid%20rgb(233%2C%20233%2C%20233)%3B%22%3E%3Cspan%20style%3D%22text-overflow%3A%20ellipsis%3B%20overflow%3A%20hidden%3B%20white-space%3A%20nowrap%3B%20max-width%3A%20calc((100%25%20-%200px)%20-%200px)%3B%22%3E2021-03-18%3C%2Fspan%3E%3C%2Fdiv%3E%3Cdiv%20style%3D%22overflow%3A%20hidden%3B%20display%3A%20none%3B%20align-items%3A%20center%3B%20font-size%3A%2012px%3B%20height%3A%2028px%3B%20left%3A%200px%3B%20padding%3A%204px%204px%203px%3B%20position%3A%20absolute%3B%20text-align%3A%20left%3B%20top%3A%201428px%3B%20width%3A%20120px%3B%20font-weight%3A%20600%3B%22%3E%3Cspan%20style%3D%22text-overflow%3A%20ellipsis%3B%20overflow%3A%20hidden%3B%20white-space%3A%20nowrap%3B%20max-width%3A%20calc((100%25%20-%200px)%20-%200px)%3B%22%3Eeau_froide%3C%2Fspan%3E%3C%2Fdiv%3E%3Cdiv%20style%3D%22overflow%3A%20hidden%3B%20display%3A%20flex%3B%20align-items%3A%20center%3B%20font-size%3A%2012px%3B%20height%3A%2028px%3B%20left%3A%20120px%3B%20padding%3A%204px%204px%203px%3B%20position%3A%20absolute%3B%20text-align%3A%20left%3B%20top%3A%201428px%3B%20width%3A%20120px%3B%20border-right%3A%202px%20solid%20rgb(233%2C%20233%2C%20233)%3B%22%3E%3Cspan%20style%3D%22text-overflow%3A%20ellipsis%3B%20overflow%3A%20hidden%3B%20white-space%3A%20nowrap%3B%20max-width%3A%20calc((100%25%20-%200px)%20-%200px)%3B%22%3E2021-03-19%3C%2Fspan%3E%3C%2Fdiv%3E%3Cdiv%20style%3D%22overflow%3A%20hidden%3B%20display%3A%20none%3B%20align-items%3A%20center%3B%20font-size%3A%2012px%3B%20height%3A%2028px%3B%20left%3A%200px%3B%20padding%3A%204px%204px%203px%3B%20position%3A%20absolute%3B%20text-align%3A%20left%3B%20top%3A%201456px%3B%20width%3A%20120px%3B%20font-weight%3A%20600%3B%22%3E%3Cspan%20style%3D%22text-overflow%3A%20ellipsis%3B%20overflow%3A%20hidden%3B%20white-space%3A%20nowrap%3B%20max-width%3A%20calc((100%25%20-%200px)%20-%200px)%3B%22%3Eeau_froide%3C%2Fspan%3E%3C%2Fdiv%3E%3Cdiv%20style%3D%22overflow%3A%20hidden%3B%20display%3A%20flex%3B%20align-items%3A%20center%3B%20font-size%3A%2012px%3B%20height%3A%2028px%3B%20left%3A%20120px%3B%20padding%3A%204px%204px%203px%3B%20position%3A%20absolute%3B%20text-align%3A%20left%3B%20top%3A%201456px%3B%20width%3A%20120px%3B%20background-color%3A%20rgb(250%2C%20250%2C%20250)%3B%20border-right%3A%202px%20solid%20rgb(233%2C%20233%2C%20233)%3B%22%3E%3Cspan%20style%3D%22text-overflow%3A%20ellipsis%3B%20overflow%3A%20hidden%3B%20white-space%3A%20nowrap%3B%20max-width%3A%20calc((100%25%20-%200px)%20-%200px)%3B%22%3E2021-03-20%3C%2Fspan%3E%3C%2Fdiv%3E%3Cdiv%20style%3D%22overflow%3A%20hidden%3B%20display%3A%20none%3B%20align-items%3A%20center%3B%20font-size%3A%2012px%3B%20height%3A%2028px%3B%20left%3A%200px%3B%20padding%3A%204px%204px%203px%3B%20position%3A%20absolute%3B%20text-align%3A%20left%3B%20top%3A%201484px%3B%20width%3A%20120px%3B%20font-weight%3A%20600%3B%22%3E%3Cspan%20style%3D%22text-overflow%3A%20ellipsis%3B%20overflow%3A%20hidden%3B%20white-space%3A%20nowrap%3B%20max-width%3A%20calc((100%25%20-%200px)%20-%200px)%3B%22%3Eeau_froide%3C%2Fspan%3E%3C%2Fdiv%3E%3Cdiv%20style%3D%22overflow%3A%20hidden%3B%20display%3A%20flex%3B%20align-items%3A%20center%3B%20font-size%3A%2012px%3B%20height%3A%2028px%3B%20left%3A%20120px%3B%20padding%3A%204px%204px%203px%3B%20position%3A%20absolute%3B%20text-align%3A%20left%3B%20top%3A%201484px%3B%20width%3A%20120px%3B%20border-right%3A%202px%20solid%20rgb(233%2C%20233%2C%20233)%3B%22%3E%3Cspan%20style%3D%22text-overflow%3A%20ellipsis%3B%20overflow%3A%20hidden%3B%20white-space%3A%20nowrap%3B%20max-width%3A%20calc((100%25%20-%200px)%20-%200px)%3B%22%3E2021-03-21%3C%2Fspan%3E%3C%2Fdiv%3E%3Cdiv%20style%3D%22overflow%3A%20hidden%3B%20display%3A%20none%3B%20align-items%3A%20center%3B%20font-size%3A%2012px%3B%20height%3A%2028px%3B%20left%3A%200px%3B%20padding%3A%204px%204px%203px%3B%20position%3A%20absolute%3B%20text-align%3A%20left%3B%20top%3A%201512px%3B%20width%3A%20120px%3B%20font-weight%3A%20600%3B%22%3E%3Cspan%20style%3D%22text-overflow%3A%20ellipsis%3B%20overflow%3A%20hidden%3B%20white-space%3A%20nowrap%3B%20max-width%3A%20calc((100%25%20-%200px)%20-%200px)%3B%22%3Eeau_froide%3C%2Fspan%3E%3C%2Fdiv%3E%3Cdiv%20style%3D%22overflow%3A%20hidden%3B%20display%3A%20flex%3B%20align-items%3A%20center%3B%20font-size%3A%2012px%3B%20height%3A%2028px%3B%20left%3A%20120px%3B%20padding%3A%204px%204px%203px%3B%20position%3A%20absolute%3B%20text-align%3A%20left%3B%20top%3A%201512px%3B%20width%3A%20120px%3B%20background-color%3A%20rgb(250%2C%20250%2C%20250)%3B%20border-right%3A%202px%20solid%20rgb(233%2C%20233%2C%20233)%3B%22%3E%3Cspan%20style%3D%22text-overflow%3A%20ellipsis%3B%20overflow%3A%20hidden%3B%20white-space%3A%20nowrap%3B%20max-width%3A%20calc((100%25%20-%200px)%20-%200px)%3B%22%3E2021-03-22%3C%2Fspan%3E%3C%2Fdiv%3E%3Cdiv%20style%3D%22overflow%3A%20hidden%3B%20display%3A%20none%3B%20align-items%3A%20center%3B%20font-size%3A%2012px%3B%20height%3A%2028px%3B%20left%3A%200px%3B%20padding%3A%204px%204px%203px%3B%20position%3A%20absolute%3B%20text-align%3A%20left%3B%20top%3A%201540px%3B%20width%3A%20120px%3B%20font-weight%3A%20600%3B%22%3E%3Cspan%20style%3D%22text-overflow%3A%20ellipsis%3B%20overflow%3A%20hidden%3B%20white-space%3A%20nowrap%3B%20max-width%3A%20calc((100%25%20-%200px)%20-%200px)%3B%22%3Eeau_froide%3C%2Fspan%3E%3C%2Fdiv%3E%3Cdiv%20style%3D%22overflow%3A%20hidden%3B%20display%3A%20flex%3B%20align-items%3A%20center%3B%20font-size%3A%2012px%3B%20height%3A%2028px%3B%20left%3A%20120px%3B%20padding%3A%204px%204px%203px%3B%20position%3A%20absolute%3B%20text-align%3A%20left%3B%20top%3A%201540px%3B%20width%3A%20120px%3B%20border-right%3A%202px%20solid%20rgb(233%2C%20233%2C%20233)%3B%22%3E%3Cspan%20style%3D%22text-overflow%3A%20ellipsis%3B%20overflow%3A%20hidden%3B%20white-space%3A%20nowrap%3B%20max-width%3A%20calc((100%25%20-%200px)%20-%200px)%3B%22%3E2021-03-23%3C%2Fspan%3E%3C%2Fdiv%3E%3Cdiv%20style%3D%22overflow%3A%20hidden%3B%20display%3A%20none%3B%20align-items%3A%20center%3B%20font-size%3A%2012px%3B%20height%3A%2028px%3B%20left%3A%200px%3B%20padding%3A%204px%204px%203px%3B%20position%3A%20absolute%3B%20text-align%3A%20left%3B%20top%3A%201568px%3B%20width%3A%20120px%3B%20font-weight%3A%20600%3B%22%3E%3Cspan%20style%3D%22text-overflow%3A%20ellipsis%3B%20overflow%3A%20hidden%3B%20white-space%3A%20nowrap%3B%20max-width%3A%20calc((100%25%20-%200px)%20-%200px)%3B%22%3Eeau_froide%3C%2Fspan%3E%3C%2Fdiv%3E%3Cdiv%20style%3D%22overflow%3A%20hidden%3B%20display%3A%20flex%3B%20align-items%3A%20center%3B%20font-size%3A%2012px%3B%20height%3A%2028px%3B%20left%3A%20120px%3B%20padding%3A%204px%204px%203px%3B%20position%3A%20absolute%3B%20text-align%3A%20left%3B%20top%3A%201568px%3B%20width%3A%20120px%3B%20background-color%3A%20rgb(250%2C%20250%2C%20250)%3B%20border-right%3A%202px%20solid%20rgb(233%2C%20233%2C%20233)%3B%22%3E%3Cspan%20style%3D%22text-overflow%3A%20ellipsis%3B%20overflow%3A%20hidden%3B%20white-space%3A%20nowrap%3B%20max-width%3A%20calc((100%25%20-%200px)%20-%200px)%3B%22%3E2021-03-24%3C%2Fspan%3E%3C%2Fdiv%3E%3Cdiv%20style%3D%22overflow%3A%20hidden%3B%20display%3A%20none%3B%20align-items%3A%20center%3B%20font-size%3A%2012px%3B%20height%3A%2028px%3B%20left%3A%200px%3B%20padding%3A%204px%204px%203px%3B%20position%3A%20absolute%3B%20text-align%3A%20left%3B%20top%3A%201596px%3B%20width%3A%20120px%3B%20font-weight%3A%20600%3B%22%3E%3Cspan%20style%3D%22text-overflow%3A%20ellipsis%3B%20overflow%3A%20hidden%3B%20white-space%3A%20nowrap%3B%20max-width%3A%20calc((100%25%20-%200px)%20-%200px)%3B%22%3Eeau_froide%3C%2Fspan%3E%3C%2Fdiv%3E%3Cdiv%20style%3D%22overflow%3A%20hidden%3B%20display%3A%20flex%3B%20align-items%3A%20center%3B%20font-size%3A%2012px%3B%20height%3A%2028px%3B%20left%3A%20120px%3B%20padding%3A%204px%204px%203px%3B%20position%3A%20absolute%3B%20text-align%3A%20left%3B%20top%3A%201596px%3B%20width%3A%20120px%3B%20border-right%3A%202px%20solid%20rgb(233%2C%20233%2C%20233)%3B%22%3E%3Cspan%20style%3D%22text-overflow%3A%20ellipsis%3B%20overflow%3A%20hidden%3B%20white-space%3A%20nowrap%3B%20max-width%3A%20calc((100%25%20-%200px)%20-%200px)%3B%22%3E2021-03-25%3C%2Fspan%3E%3C%2Fdiv%3E%3Cdiv%20style%3D%22overflow%3A%20hidden%3B%20display%3A%20none%3B%20align-items%3A%20center%3B%20font-size%3A%2012px%3B%20height%3A%2028px%3B%20left%3A%200px%3B%20padding%3A%204px%204px%203px%3B%20position%3A%20absolute%3B%20text-align%3A%20left%3B%20top%3A%201624px%3B%20width%3A%20120px%3B%20font-weight%3A%20600%3B%22%3E%3Cspan%20style%3D%22text-overflow%3A%20ellipsis%3B%20overflow%3A%20hidden%3B%20white-space%3A%20nowrap%3B%20max-width%3A%20calc((100%25%20-%200px)%20-%200px)%3B%22%3Eeau_froide%3C%2Fspan%3E%3C%2Fdiv%3E%3Cdiv%20style%3D%22overflow%3A%20hidden%3B%20display%3A%20flex%3B%20align-items%3A%20center%3B%20font-size%3A%2012px%3B%20height%3A%2028px%3B%20left%3A%20120px%3B%20padding%3A%204px%204px%203px%3B%20position%3A%20absolute%3B%20text-align%3A%20left%3B%20top%3A%201624px%3B%20width%3A%20120px%3B%20background-color%3A%20rgb(250%2C%20250%2C%20250)%3B%20border-right%3A%202px%20solid%20rgb(233%2C%20233%2C%20233)%3B%22%3E%3Cspan%20style%3D%22text-overflow%3A%20ellipsis%3B%20overflow%3A%20hidden%3B%20white-space%3A%20nowrap%3B%20max-width%3A%20calc((100%25%20-%200px)%20-%200px)%3B%22%3E2021-03-26%3C%2Fspan%3E%3C%2Fdiv%3E%3C%2Fdiv%3E%3C%2Fdiv%3E%3C%2Fdiv%3E%3Cdiv%20class%3D%22css-104j6as-Table%22%3E%3Cdiv%20class%3D%22css-1i9v0ao%22%3E%3Cdiv%20class%3D%22css-1toshix%22%3E%3Cdiv%20class%3D%22css-1hol363-ResizableCell%22%3E%3Cdiv%20style%3D%22overflow%3A%20hidden%3B%20display%3A%20flex%3B%20align-items%3A%20center%3B%20font-size%3A%2012px%3B%20height%3A%2028px%3B%20left%3A%200px%3B%20padding%3A%204px%204px%203px%3B%20position%3A%20absolute%3B%20text-align%3A%20left%3B%20top%3A%200px%3B%20width%3A%20115px%3B%20font-weight%3A%20600%3B%22%3E%3Cspan%20style%3D%22text-overflow%3A%20ellipsis%3B%20overflow%3A%20hidden%3B%20white-space%3A%20nowrap%3B%20max-width%3A%20calc((100%25%20-%200px)%20-%200px)%3B%22%3EValeur_compteur.MOY%3C%2Fspan%3E%3C%2Fdiv%3E%3Cdiv%20class%3D%22css-xxcrt1-ResizableCell%22%3E%3C%2Fdiv%3E%3C%2Fdiv%3E%3C%2Fdiv%3E%3C%2Fdiv%3E%3Cdiv%20class%3D%22css-wjxchf%22%3E%3Cdiv%20class%3D%22css-r3z2g3%22%20style%3D%22top%3A%20-1312.8px%3B%22%3E%3Cdiv%20class%3D%22aui-table-cell%22%20style%3D%22font-size%3A%2012px%3B%20height%3A%2028px%3B%20left%3A%200px%3B%20padding%3A%204px%204px%203px%3B%20overflow%3A%20hidden%3B%20position%3A%20absolute%3B%20text-align%3A%20right%3B%20top%3A%201288px%3B%20width%3A%20120px%3B%20border-right%3A%201px%20solid%20rgb(233%2C%20233%2C%20233)%3B%20border-top%3A%201px%20solid%20rgb(233%2C%20233%2C%20233)%3B%22%3E12298.47%3C%2Fdiv%3E%3Cdiv%20class%3D%22aui-table-cell%22%20style%3D%22font-size%3A%2012px%3B%20height%3A%2028px%3B%20left%3A%200px%3B%20padding%3A%204px%204px%203px%3B%20overflow%3A%20hidden%3B%20position%3A%20absolute%3B%20text-align%3A%20right%3B%20top%3A%201316px%3B%20width%3A%20120px%3B%20border-right%3A%201px%20solid%20rgb(233%2C%20233%2C%20233)%3B%20border-top%3A%201px%20solid%20rgb(233%2C%20233%2C%20233)%3B%22%3E18168.64%3C%2Fdiv%3E%3Cdiv%20class%3D%22aui-table-cell%22%20style%3D%22font-size%3A%2012px%3B%20height%3A%2028px%3B%20left%3A%200px%3B%20padding%3A%204px%204px%203px%3B%20overflow%3A%20hidden%3B%20position%3A%20absolute%3B%20text-align%3A%20right%3B%20top%3A%201344px%3B%20width%3A%20120px%3B%20background-color%3A%20rgb(250%2C%20250%2C%20250)%3B%20border-right%3A%201px%20solid%20rgb(233%2C%20233%2C%20233)%3B%22%3E0.00%3C%2Fdiv%3E%3Cdiv%20class%3D%22aui-table-cell%22%20style%3D%22font-size%3A%2012px%3B%20height%3A%2028px%3B%20left%3A%200px%3B%20padding%3A%204px%204px%203px%3B%20overflow%3A%20hidden%3B%20position%3A%20absolute%3B%20text-align%3A%20right%3B%20top%3A%201372px%3B%20width%3A%20120px%3B%20border-right%3A%201px%20solid%20rgb(233%2C%20233%2C%20233)%3B%22%3E18394.16%3C%2Fdiv%3E%3Cdiv%20class%3D%22aui-table-cell%22%20style%3D%22font-size%3A%2012px%3B%20height%3A%2028px%3B%20left%3A%200px%3B%20padding%3A%204px%204px%203px%3B%20overflow%3A%20hidden%3B%20position%3A%20absolute%3B%20text-align%3A%20right%3B%20top%3A%201400px%3B%20width%3A%20120px%3B%20background-color%3A%20rgb(250%2C%20250%2C%20250)%3B%20border-right%3A%201px%20solid%20rgb(233%2C%20233%2C%20233)%3B%22%3E18412.81%3C%2Fdiv%3E%3Cdiv%20class%3D%22aui-table-cell%22%20style%3D%22font-size%3A%2012px%3B%20height%3A%2028px%3B%20left%3A%200px%3B%20padding%3A%204px%204px%203px%3B%20overflow%3A%20hidden%3B%20position%3A%20absolute%3B%20text-align%3A%20right%3B%20top%3A%201428px%3B%20width%3A%20120px%3B%20border-right%3A%201px%20solid%20rgb(233%2C%20233%2C%20233)%3B%22%3E18431.98%3C%2Fdiv%3E%3Cdiv%20class%3D%22aui-table-cell%22%20style%3D%22font-size%3A%2012px%3B%20height%3A%2028px%3B%20left%3A%200px%3B%20padding%3A%204px%204px%203px%3B%20overflow%3A%20hidden%3B%20position%3A%20absolute%3B%20text-align%3A%20right%3B%20top%3A%201456px%3B%20width%3A%20120px%3B%20background-color%3A%20rgb(250%2C%20250%2C%20250)%3B%20border-right%3A%201px%20solid%20rgb(233%2C%20233%2C%20233)%3B%22%3E18450.93%3C%2Fdiv%3E%3Cdiv%20class%3D%22aui-table-cell%22%20style%3D%22font-size%3A%2012px%3B%20height%3A%2028px%3B%20left%3A%200px%3B%20padding%3A%204px%204px%203px%3B%20overflow%3A%20hidden%3B%20position%3A%20absolute%3B%20text-align%3A%20right%3B%20top%3A%201484px%3B%20width%3A%20120px%3B%20border-right%3A%201px%20solid%20rgb(233%2C%20233%2C%20233)%3B%22%3E18469.73%3C%2Fdiv%3E%3Cdiv%20class%3D%22aui-table-cell%22%20style%3D%22font-size%3A%2012px%3B%20height%3A%2028px%3B%20left%3A%200px%3B%20padding%3A%204px%204px%203px%3B%20overflow%3A%20hidden%3B%20position%3A%20absolute%3B%20text-align%3A%20right%3B%20top%3A%201512px%3B%20width%3A%20120px%3B%20background-color%3A%20rgb(250%2C%20250%2C%20250)%3B%20border-right%3A%201px%20solid%20rgb(233%2C%20233%2C%20233)%3B%22%3E18489.58%3C%2Fdiv%3E%3Cdiv%20class%3D%22aui-table-cell%22%20style%3D%22font-size%3A%2012px%3B%20height%3A%2028px%3B%20left%3A%200px%3B%20padding%3A%204px%204px%203px%3B%20overflow%3A%20hidden%3B%20position%3A%20absolute%3B%20text-align%3A%20right%3B%20top%3A%201540px%3B%20width%3A%20120px%3B%20border-right%3A%201px%20solid%20rgb(233%2C%20233%2C%20233)%3B%22%3E18508.98%3C%2Fdiv%3E%3Cdiv%20class%3D%22aui-table-cell%22%20style%3D%22font-size%3A%2012px%3B%20height%3A%2028px%3B%20left%3A%200px%3B%20padding%3A%204px%204px%203px%3B%20overflow%3A%20hidden%3B%20position%3A%20absolute%3B%20text-align%3A%20right%3B%20top%3A%201568px%3B%20width%3A%20120px%3B%20background-color%3A%20rgb(250%2C%20250%2C%20250)%3B%20border-right%3A%201px%20solid%20rgb(233%2C%20233%2C%20233)%3B%22%3E18529.13%3C%2Fdiv%3E%3Cdiv%20class%3D%22aui-table-cell%22%20style%3D%22font-size%3A%2012px%3B%20height%3A%2028px%3B%20left%3A%200px%3B%20padding%3A%204px%204px%203px%3B%20overflow%3A%20hidden%3B%20position%3A%20absolute%3B%20text-align%3A%20right%3B%20top%3A%201596px%3B%20width%3A%20120px%3B%20border-right%3A%201px%20solid%20rgb(233%2C%20233%2C%20233)%3B%22%3E18548.57%3C%2Fdiv%3E%3Cdiv%20class%3D%22aui-table-cell%22%20style%3D%22font-size%3A%2012px%3B%20height%3A%2028px%3B%20left%3A%200px%3B%20padding%3A%204px%204px%203px%3B%20overflow%3A%20hidden%3B%20position%3A%20absolute%3B%20text-align%3A%20right%3B%20top%3A%201624px%3B%20width%3A%20120px%3B%20background-color%3A%20rgb(250%2C%20250%2C%20250)%3B%20border-right%3A%201px%20solid%20rgb(233%2C%20233%2C%20233)%3B%22%3E18568.91%3C%2Fdiv%3E%3C%2Fdiv%3E%3C%2Fdiv%3E%3C%2Fdiv%3E%3C%2Fdiv%3E%3C%2Fdiv%3E%3C%2Fdiv%3E%3C%2Fdiv%3E%3C%2Fdiv%3E%3C%2Fdiv%3E%3C%2Fdiv%3E%3C%2FforeignObject%3E%3C%2Fsvg%3E\">"
      ],
      "text/plain": [
       "Open the notebook in JupyterLab with the atoti extension installed and enabled to start editing this widget."
      ]
     },
     "metadata": {},
     "output_type": "display_data"
    }
   ],
   "source": [
    "session.visualize()"
   ]
  },
  {
   "cell_type": "code",
   "execution_count": 16,
   "id": "radio-donna",
   "metadata": {},
   "outputs": [],
   "source": [
    "# creation de la valeur du compteur en fonction du type d'aggregation et du type d'intervalle\n",
    "# valeur precedente du compteur depend du type d'intervalle (seulement 2 possibilités pour l'instant Jour ou Semaine)\n",
    "\n",
    "cube_measures[\"Valeur_compteur\"] = store_compteurs[\"valeur_compteur\"]\n"
   ]
  },
  {
   "cell_type": "code",
   "execution_count": 21,
   "id": "unsigned-composer",
   "metadata": {
    "tags": []
   },
   "outputs": [],
   "source": [
    "cube_measures[\"Valeur_precedente_compteur\"] = tt.where(\n",
    "    cube_levels[\"Type_intervalle\"] == \"Jour\", \n",
    "           tt.date_shift(\n",
    "                cube_measures[\"Valeur_compteur\"],\n",
    "                on=cube_hierarchies[\"Date\"],\n",
    "                offset=\"-1D\",\n",
    "                method=\"previous\")  ,\n",
    "            tt.date_shift(\n",
    "                cube_measures[\"Valeur_compteur\"],\n",
    "                on=cube_hierarchies[\"Date\"],\n",
    "                offset=\"-1W\",\n",
    "                method=\"previous\")\n",
    ")\n",
    "cube_measures[\"Diff_valeur_compteur\"] = cube_measures[\"Valeur_compteur\"] - cube_measures[\"Valeur_precedente_compteur\"]\n",
    "\n",
    "# la somme dépend du type d'aggregation     \n",
    "cube_measures[\"Valeur_compteur.SOMME\"] = tt.where(\n",
    "    cube_levels[\"Type_aggregation\"] == \"SUM\", \n",
    "    tt.agg.sum(cube_measures[\"Valeur_compteur\"]),\n",
    "    tt.agg.sum(cube_measures[\"Diff_valeur_compteur\"])\n",
    ")\n",
    "\n",
    "cube_measures[\"Valeur_compteur.CUMUL.SOMME\"] = tt.where(\n",
    "    cube_levels[\"Type_aggregation\"] == \"SUM\", \n",
    "    tt.agg.sum(cube_measures[\"Valeur_compteur\"], scope=tt.scope.cumulative(cube_levels[\"Date\"])),\n",
    "    tt.agg.sum(cube_measures[\"Diff_valeur_compteur\"], scope=tt.scope.cumulative(cube_levels[\"Date\"]))\n",
    ")"
   ]
  },
  {
   "cell_type": "code",
   "execution_count": 22,
   "id": "moved-curve",
   "metadata": {
    "atoti": {
     "widget": {
      "mapping": {
       "columns": [
        "ALL_MEASURES"
       ],
       "measures": [
        "[Measures].[veille]"
       ],
       "rows": [
        "[type_compteur].[ID_compteur].[ID_compteur]",
        "[compteurs].[Date].[Date]"
       ]
      },
      "query": {
       "mdx": "SELECT NON EMPTY {[Measures].[veille]} ON COLUMNS, NON EMPTY Crossjoin(Hierarchize(Descendants({[type_compteur].[ID_compteur].[AllMember]}, 1, SELF_AND_BEFORE)), Hierarchize(Descendants({[compteurs].[Date].[AllMember]}, 1, SELF_AND_BEFORE))) ON ROWS FROM [type_compteur]",
       "updateMode": "once"
      },
      "serverKey": "default",
      "widgetKey": "pivot-table"
     }
    },
    "tags": []
   },
   "outputs": [
    {
     "data": {
      "application/vnd.atoti.widget.v0+json": {
       "name": null,
       "session": "Emgt_nrj_monitoring"
      },
      "text/plain": [
       "Open the notebook in JupyterLab with the atoti extension installed and enabled to start editing this widget."
      ]
     },
     "metadata": {},
     "output_type": "display_data"
    }
   ],
   "source": [
    "session.visualize()"
   ]
  },
  {
   "cell_type": "code",
   "execution_count": null,
   "id": "extra-variation",
   "metadata": {},
   "outputs": [],
   "source": []
  }
 ],
 "metadata": {
  "kernelspec": {
   "display_name": "Python 3",
   "language": "python",
   "name": "python3"
  },
  "language_info": {
   "codemirror_mode": {
    "name": "ipython",
    "version": 3
   },
   "file_extension": ".py",
   "mimetype": "text/x-python",
   "name": "python",
   "nbconvert_exporter": "python",
   "pygments_lexer": "ipython3",
   "version": "3.9.2"
  }
 },
 "nbformat": 4,
 "nbformat_minor": 5
}
